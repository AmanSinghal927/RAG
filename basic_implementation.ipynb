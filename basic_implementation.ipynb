{
 "cells": [
  {
   "cell_type": "code",
   "execution_count": 78,
   "id": "9a40999e-0b95-408e-92d9-a0658303150e",
   "metadata": {},
   "outputs": [
    {
     "name": "stderr",
     "output_type": "stream",
     "text": [
      "C:\\Users\\J C SINGLA\\miniconda3\\Lib\\site-packages\\fuzzywuzzy\\fuzz.py:11: UserWarning: Using slow pure-python SequenceMatcher. Install python-Levenshtein to remove this warning\n",
      "  warnings.warn('Using slow pure-python SequenceMatcher. Install python-Levenshtein to remove this warning')\n"
     ]
    }
   ],
   "source": [
    "import pandas as pd\n",
    "import json \n",
    "from sentence_transformers import SentenceTransformer\n",
    "import glob\n",
    "import faiss\n",
    "from fuzzywuzzy import fuzz"
   ]
  },
  {
   "cell_type": "code",
   "execution_count": 2,
   "id": "ade7a583-acb1-4107-be6e-35813b78e4e2",
   "metadata": {},
   "outputs": [],
   "source": [
    "# !pip install pandas\n",
    "# !pip install sentence-transformers\n",
    "# !pip install openpyxl\n",
    "# !pip install fuzzywuzzy"
   ]
  },
  {
   "cell_type": "markdown",
   "id": "8dd2b380-3866-4138-9f5a-945bb8498db4",
   "metadata": {},
   "source": [
    "## Load model"
   ]
  },
  {
   "cell_type": "code",
   "execution_count": 4,
   "id": "404a7c77-587e-438d-ac55-ab7da7a68b44",
   "metadata": {
    "scrolled": true
   },
   "outputs": [],
   "source": [
    "model = SentenceTransformer('bert-base-nli-mean-tokens')"
   ]
  },
  {
   "cell_type": "code",
   "execution_count": 5,
   "id": "91659119-0abc-42a2-98d4-75a86a967f59",
   "metadata": {},
   "outputs": [],
   "source": [
    "def split_data(data):\n",
    "    return data[\"raw_text\"].split(\"\\n\")"
   ]
  },
  {
   "cell_type": "code",
   "execution_count": 6,
   "id": "855dae87-3a47-4e5d-8e69-e6ec449afb46",
   "metadata": {},
   "outputs": [],
   "source": [
    "def read_json_from_folders(directory_path):\n",
    "    \"\"\"\n",
    "    Reads all JSON files from each folder in the specified directory.\n",
    "\n",
    "    :param directory_path: Path to the directory containing folders of JSON files.\n",
    "    :return: A list of dictionaries where each dictionary contains data from a single JSON file.\n",
    "    \"\"\"\n",
    "    all_data = []\n",
    "    filenames = []\n",
    "    search_pattern = f\"{directory_path}/*/*.json\"\n",
    "    for file_path in glob.glob(search_pattern):\n",
    "        with open(file_path, 'r') as file:\n",
    "            data = json.load(file)\n",
    "            data = split_data(data)\n",
    "            filenames.extend([file_path]*len(data))\n",
    "            all_data.extend(data)\n",
    "    return all_data, filenames"
   ]
  },
  {
   "cell_type": "code",
   "execution_count": 7,
   "id": "32cfc20a-1b02-4e7f-9aa8-d75a06cbd8f8",
   "metadata": {},
   "outputs": [],
   "source": [
    "directory_path = r'C:\\Users\\J C SINGLA\\Downloads\\External - take_home_challenge_(withJSONs)\\take_home_challenge_(withJSONs)\\raw_text'\n",
    "all_data, filenames = read_json_from_folders(directory_path)"
   ]
  },
  {
   "cell_type": "code",
   "execution_count": 8,
   "id": "1880cdee-c393-4441-9e15-ff93a97ee3b6",
   "metadata": {},
   "outputs": [],
   "source": [
    "doc_name = \"DR--110685614\"\n",
    "subset_str = \"C:\\\\Users\\\\J C SINGLA\\\\Downloads\\\\External - take_home_challenge_(withJSONs)\\\\take_home_challenge_(withJSONs)\\\\raw_text\\\\\" +doc_name+\"\\\\raw_text.json\""
   ]
  },
  {
   "cell_type": "code",
   "execution_count": 9,
   "id": "4cba77b4-d4a9-463d-af8a-09319afc0c7c",
   "metadata": {},
   "outputs": [],
   "source": [
    "sentence_embeddings = model.encode(all_data)"
   ]
  },
  {
   "cell_type": "code",
   "execution_count": 10,
   "id": "6480d6af-284f-44f5-8970-f9fe536935b1",
   "metadata": {},
   "outputs": [
    {
     "data": {
      "text/plain": [
       "(428, 768)"
      ]
     },
     "execution_count": 10,
     "metadata": {},
     "output_type": "execute_result"
    }
   ],
   "source": [
    "sentence_embeddings.shape"
   ]
  },
  {
   "cell_type": "markdown",
   "id": "fdae5ded-629d-4321-bcdc-b82acb61dc48",
   "metadata": {},
   "source": [
    "# Index Flat2"
   ]
  },
  {
   "cell_type": "code",
   "execution_count": 11,
   "id": "3be255b7-530d-4d78-abaa-9ce4235f0d1c",
   "metadata": {},
   "outputs": [],
   "source": [
    "d = sentence_embeddings.shape[1]\n",
    "index = faiss.IndexFlatL2(d)\n",
    "index.is_trained"
   ]
  },
  {
   "cell_type": "code",
   "execution_count": 12,
   "id": "2a5c9b4e-d71e-42c3-b2a2-ceb405f91cac",
   "metadata": {},
   "outputs": [
    {
     "data": {
      "text/plain": [
       "428"
      ]
     },
     "execution_count": 12,
     "metadata": {},
     "output_type": "execute_result"
    }
   ],
   "source": [
    "index.add(sentence_embeddings)\n",
    "index.ntotal"
   ]
  },
  {
   "cell_type": "code",
   "execution_count": null,
   "id": "46837061-df79-45e7-a5d8-b57f0b6dd320",
   "metadata": {},
   "outputs": [],
   "source": []
  },
  {
   "cell_type": "markdown",
   "id": "892ab5a1-8924-42aa-879b-5310e4a4af14",
   "metadata": {},
   "source": [
    "# Ground Truth"
   ]
  },
  {
   "cell_type": "code",
   "execution_count": 41,
   "id": "557643c4-a50b-4ddc-89ad-d6a2f8f729f8",
   "metadata": {},
   "outputs": [],
   "source": [
    "ground_truth_path = r\"C:\\Users\\J C SINGLA\\Downloads\\External - take_home_challenge_(withJSONs)\\take_home_challenge_(withJSONs)\\document_questions.xlsx\""
   ]
  },
  {
   "cell_type": "code",
   "execution_count": 42,
   "id": "5123d726-3b8f-4228-8728-67022a5d2129",
   "metadata": {},
   "outputs": [],
   "source": [
    "ground_truth = pd.read_excel(ground_truth_path)"
   ]
  },
  {
   "cell_type": "code",
   "execution_count": 43,
   "id": "24052cde-b1a5-4428-af30-1a2d6280d7f0",
   "metadata": {
    "scrolled": true
   },
   "outputs": [
    {
     "data": {
      "text/html": [
       "<div>\n",
       "<style scoped>\n",
       "    .dataframe tbody tr th:only-of-type {\n",
       "        vertical-align: middle;\n",
       "    }\n",
       "\n",
       "    .dataframe tbody tr th {\n",
       "        vertical-align: top;\n",
       "    }\n",
       "\n",
       "    .dataframe thead th {\n",
       "        text-align: right;\n",
       "    }\n",
       "</style>\n",
       "<table border=\"1\" class=\"dataframe\">\n",
       "  <thead>\n",
       "    <tr style=\"text-align: right;\">\n",
       "      <th></th>\n",
       "      <th>document</th>\n",
       "      <th>relevant questions</th>\n",
       "      <th>answer</th>\n",
       "      <th>complexity</th>\n",
       "    </tr>\n",
       "  </thead>\n",
       "  <tbody>\n",
       "    <tr>\n",
       "      <th>0</th>\n",
       "      <td>DR--185549702_INTRO</td>\n",
       "      <td>What is meant by \"computational finance\"?</td>\n",
       "      <td>NaN</td>\n",
       "      <td>no raw_text</td>\n",
       "    </tr>\n",
       "    <tr>\n",
       "      <th>1</th>\n",
       "      <td>DR--185549702_INTRO</td>\n",
       "      <td>What is meant by 'investor heterogeneity'?</td>\n",
       "      <td>NaN</td>\n",
       "      <td>no raw_text</td>\n",
       "    </tr>\n",
       "    <tr>\n",
       "      <th>2</th>\n",
       "      <td>DR--185549702_INTRO</td>\n",
       "      <td>What was the revolution witnessed by finance i...</td>\n",
       "      <td>NaN</td>\n",
       "      <td>no raw_text</td>\n",
       "    </tr>\n",
       "    <tr>\n",
       "      <th>3</th>\n",
       "      <td>DR--185549702_INTRO</td>\n",
       "      <td>Why do you think financial markets are viewed ...</td>\n",
       "      <td>NaN</td>\n",
       "      <td>no raw_text</td>\n",
       "    </tr>\n",
       "    <tr>\n",
       "      <th>4</th>\n",
       "      <td>DR--185549702_INTRO</td>\n",
       "      <td>Why are the financial markets appealing applic...</td>\n",
       "      <td>NaN</td>\n",
       "      <td>no raw_text</td>\n",
       "    </tr>\n",
       "    <tr>\n",
       "      <th>5</th>\n",
       "      <td>DR--185549702_INTRO</td>\n",
       "      <td>What are the different design questions in con...</td>\n",
       "      <td>NaN</td>\n",
       "      <td>no raw_text</td>\n",
       "    </tr>\n",
       "    <tr>\n",
       "      <th>6</th>\n",
       "      <td>DR--185549702_INTRO</td>\n",
       "      <td>Discuss Lettau’s framework using various mathe...</td>\n",
       "      <td>NaN</td>\n",
       "      <td>no raw_text</td>\n",
       "    </tr>\n",
       "    <tr>\n",
       "      <th>7</th>\n",
       "      <td>DR--185549702_INTRO</td>\n",
       "      <td>The exchange rate is given by what formula?</td>\n",
       "      <td>NaN</td>\n",
       "      <td>no raw_text</td>\n",
       "    </tr>\n",
       "    <tr>\n",
       "      <th>8</th>\n",
       "      <td>DR--185549702_INTRO</td>\n",
       "      <td>Discuss the criticisms of agent-based markets.</td>\n",
       "      <td>NaN</td>\n",
       "      <td>no raw_text</td>\n",
       "    </tr>\n",
       "    <tr>\n",
       "      <th>9</th>\n",
       "      <td>DR--185549702_INTRO</td>\n",
       "      <td>How is timing an ignored final problem?</td>\n",
       "      <td>NaN</td>\n",
       "      <td>no raw_text</td>\n",
       "    </tr>\n",
       "    <tr>\n",
       "      <th>10</th>\n",
       "      <td>DR--110685614</td>\n",
       "      <td>What is the earliest that I can depart from Do...</td>\n",
       "      <td>NaN</td>\n",
       "      <td>table</td>\n",
       "    </tr>\n",
       "    <tr>\n",
       "      <th>11</th>\n",
       "      <td>DR--110685614</td>\n",
       "      <td>Is it a departure from the College stop after ...</td>\n",
       "      <td>NaN</td>\n",
       "      <td>table</td>\n",
       "    </tr>\n",
       "    <tr>\n",
       "      <th>12</th>\n",
       "      <td>DR--110685614</td>\n",
       "      <td>What are the destinations of the express bus?</td>\n",
       "      <td>NaN</td>\n",
       "      <td>table</td>\n",
       "    </tr>\n",
       "    <tr>\n",
       "      <th>13</th>\n",
       "      <td>DR--110685614</td>\n",
       "      <td>at what time is the last opportunity someone c...</td>\n",
       "      <td>NaN</td>\n",
       "      <td>table</td>\n",
       "    </tr>\n",
       "    <tr>\n",
       "      <th>14</th>\n",
       "      <td>DR--2256935</td>\n",
       "      <td>What was the gross profit of three months ende...</td>\n",
       "      <td>NaN</td>\n",
       "      <td>table</td>\n",
       "    </tr>\n",
       "    <tr>\n",
       "      <th>15</th>\n",
       "      <td>DR--2256935</td>\n",
       "      <td>How much percentage difference of goods sold b...</td>\n",
       "      <td>NaN</td>\n",
       "      <td>table</td>\n",
       "    </tr>\n",
       "    <tr>\n",
       "      <th>16</th>\n",
       "      <td>DR--2256935</td>\n",
       "      <td>In which year were there the greatest total as...</td>\n",
       "      <td>NaN</td>\n",
       "      <td>table</td>\n",
       "    </tr>\n",
       "    <tr>\n",
       "      <th>17</th>\n",
       "      <td>DR--2256935</td>\n",
       "      <td>In which year were there the greatest total li...</td>\n",
       "      <td>NaN</td>\n",
       "      <td>table</td>\n",
       "    </tr>\n",
       "    <tr>\n",
       "      <th>18</th>\n",
       "      <td>DR--182866691_INTRO</td>\n",
       "      <td>How varied were the subjects of the different ...</td>\n",
       "      <td>NaN</td>\n",
       "      <td>table</td>\n",
       "    </tr>\n",
       "    <tr>\n",
       "      <th>19</th>\n",
       "      <td>DR--182866691_INTRO</td>\n",
       "      <td>What is the Oregon Section's annual Traffic Bo...</td>\n",
       "      <td>The Student Liaison Committee had another succ...</td>\n",
       "      <td>text</td>\n",
       "    </tr>\n",
       "    <tr>\n",
       "      <th>20</th>\n",
       "      <td>DR--182866691_INTRO</td>\n",
       "      <td>The participating schools of the Traffic Bowl ...</td>\n",
       "      <td>This year we had 52 students from six universi...</td>\n",
       "      <td>text</td>\n",
       "    </tr>\n",
       "    <tr>\n",
       "      <th>21</th>\n",
       "      <td>DR--182866691_INTRO</td>\n",
       "      <td>How do you think the donations from the local ...</td>\n",
       "      <td>University of Portland took home the grand pri...</td>\n",
       "      <td>text</td>\n",
       "    </tr>\n",
       "    <tr>\n",
       "      <th>22</th>\n",
       "      <td>DR--182866691_INTRO</td>\n",
       "      <td>Discuss the Oregon Section's website.</td>\n",
       "      <td>This year the Oregon Section retained the doma...</td>\n",
       "      <td>text</td>\n",
       "    </tr>\n",
       "    <tr>\n",
       "      <th>23</th>\n",
       "      <td>DR--182866691_INTRO</td>\n",
       "      <td>What do you know about the 18th annual ITE Gol...</td>\n",
       "      <td>The Oregon Section hosted its 18th annual ITE ...</td>\n",
       "      <td>text</td>\n",
       "    </tr>\n",
       "    <tr>\n",
       "      <th>24</th>\n",
       "      <td>DR--182866691_INTRO</td>\n",
       "      <td>What are the standard rules of a golf game?</td>\n",
       "      <td>NaN</td>\n",
       "      <td>text</td>\n",
       "    </tr>\n",
       "    <tr>\n",
       "      <th>25</th>\n",
       "      <td>DR--182866691_INTRO</td>\n",
       "      <td>How do you think the token gifts motivate the ...</td>\n",
       "      <td>NaN</td>\n",
       "      <td>text</td>\n",
       "    </tr>\n",
       "    <tr>\n",
       "      <th>26</th>\n",
       "      <td>DR--182866691_INTRO</td>\n",
       "      <td>How was the District 6 meeting a huge success?</td>\n",
       "      <td>The District 6 meeting was a huge success in t...</td>\n",
       "      <td>text</td>\n",
       "    </tr>\n",
       "    <tr>\n",
       "      <th>27</th>\n",
       "      <td>DR--182866691_INTRO</td>\n",
       "      <td>Which award was granted over the past year? To...</td>\n",
       "      <td>Award Name: Traffic Bowl - First Place Award R...</td>\n",
       "      <td>text</td>\n",
       "    </tr>\n",
       "    <tr>\n",
       "      <th>28</th>\n",
       "      <td>DR--14627260_INTRO</td>\n",
       "      <td>How do you think sexual harassment as an issue...</td>\n",
       "      <td>NaN</td>\n",
       "      <td>text</td>\n",
       "    </tr>\n",
       "    <tr>\n",
       "      <th>29</th>\n",
       "      <td>DR--14627260_INTRO</td>\n",
       "      <td>What legislative suggestions pertaining to wor...</td>\n",
       "      <td>[\"We believe that the current legislated timef...</td>\n",
       "      <td>text</td>\n",
       "    </tr>\n",
       "    <tr>\n",
       "      <th>30</th>\n",
       "      <td>DR--14627260_INTRO</td>\n",
       "      <td>How does the scarcity of data on mediations im...</td>\n",
       "      <td>The scarcity of data and the deficiencies in t...</td>\n",
       "      <td>text</td>\n",
       "    </tr>\n",
       "    <tr>\n",
       "      <th>31</th>\n",
       "      <td>DR--14627260_INTRO</td>\n",
       "      <td>What and why the firm designates as one of the...</td>\n",
       "      <td>Maurice Blackburn is of the view that one of t...</td>\n",
       "      <td>text</td>\n",
       "    </tr>\n",
       "    <tr>\n",
       "      <th>32</th>\n",
       "      <td>DR--14627260_INTRO</td>\n",
       "      <td>In what cases should online sexual harassment ...</td>\n",
       "      <td>That on-line sexual harassment is criminalised...</td>\n",
       "      <td>text</td>\n",
       "    </tr>\n",
       "  </tbody>\n",
       "</table>\n",
       "</div>"
      ],
      "text/plain": [
       "               document                                 relevant questions  \\\n",
       "0   DR--185549702_INTRO          What is meant by \"computational finance\"?   \n",
       "1   DR--185549702_INTRO         What is meant by 'investor heterogeneity'?   \n",
       "2   DR--185549702_INTRO  What was the revolution witnessed by finance i...   \n",
       "3   DR--185549702_INTRO  Why do you think financial markets are viewed ...   \n",
       "4   DR--185549702_INTRO  Why are the financial markets appealing applic...   \n",
       "5   DR--185549702_INTRO  What are the different design questions in con...   \n",
       "6   DR--185549702_INTRO  Discuss Lettau’s framework using various mathe...   \n",
       "7   DR--185549702_INTRO        The exchange rate is given by what formula?   \n",
       "8   DR--185549702_INTRO     Discuss the criticisms of agent-based markets.   \n",
       "9   DR--185549702_INTRO            How is timing an ignored final problem?   \n",
       "10        DR--110685614  What is the earliest that I can depart from Do...   \n",
       "11        DR--110685614  Is it a departure from the College stop after ...   \n",
       "12        DR--110685614      What are the destinations of the express bus?   \n",
       "13        DR--110685614  at what time is the last opportunity someone c...   \n",
       "14          DR--2256935  What was the gross profit of three months ende...   \n",
       "15          DR--2256935  How much percentage difference of goods sold b...   \n",
       "16          DR--2256935  In which year were there the greatest total as...   \n",
       "17          DR--2256935  In which year were there the greatest total li...   \n",
       "18  DR--182866691_INTRO  How varied were the subjects of the different ...   \n",
       "19  DR--182866691_INTRO  What is the Oregon Section's annual Traffic Bo...   \n",
       "20  DR--182866691_INTRO  The participating schools of the Traffic Bowl ...   \n",
       "21  DR--182866691_INTRO  How do you think the donations from the local ...   \n",
       "22  DR--182866691_INTRO              Discuss the Oregon Section's website.   \n",
       "23  DR--182866691_INTRO  What do you know about the 18th annual ITE Gol...   \n",
       "24  DR--182866691_INTRO        What are the standard rules of a golf game?   \n",
       "25  DR--182866691_INTRO  How do you think the token gifts motivate the ...   \n",
       "26  DR--182866691_INTRO     How was the District 6 meeting a huge success?   \n",
       "27  DR--182866691_INTRO  Which award was granted over the past year? To...   \n",
       "28   DR--14627260_INTRO  How do you think sexual harassment as an issue...   \n",
       "29   DR--14627260_INTRO  What legislative suggestions pertaining to wor...   \n",
       "30   DR--14627260_INTRO  How does the scarcity of data on mediations im...   \n",
       "31   DR--14627260_INTRO  What and why the firm designates as one of the...   \n",
       "32   DR--14627260_INTRO  In what cases should online sexual harassment ...   \n",
       "\n",
       "                                               answer   complexity  \n",
       "0                                                 NaN  no raw_text  \n",
       "1                                                 NaN  no raw_text  \n",
       "2                                                 NaN  no raw_text  \n",
       "3                                                 NaN  no raw_text  \n",
       "4                                                 NaN  no raw_text  \n",
       "5                                                 NaN  no raw_text  \n",
       "6                                                 NaN  no raw_text  \n",
       "7                                                 NaN  no raw_text  \n",
       "8                                                 NaN  no raw_text  \n",
       "9                                                 NaN  no raw_text  \n",
       "10                                                NaN        table  \n",
       "11                                                NaN        table  \n",
       "12                                                NaN        table  \n",
       "13                                                NaN        table  \n",
       "14                                                NaN        table  \n",
       "15                                                NaN        table  \n",
       "16                                                NaN        table  \n",
       "17                                                NaN        table  \n",
       "18                                                NaN        table  \n",
       "19  The Student Liaison Committee had another succ...         text  \n",
       "20  This year we had 52 students from six universi...         text  \n",
       "21  University of Portland took home the grand pri...         text  \n",
       "22  This year the Oregon Section retained the doma...         text  \n",
       "23  The Oregon Section hosted its 18th annual ITE ...         text  \n",
       "24                                                NaN         text  \n",
       "25                                                NaN         text  \n",
       "26  The District 6 meeting was a huge success in t...         text  \n",
       "27  Award Name: Traffic Bowl - First Place Award R...         text  \n",
       "28                                                NaN         text  \n",
       "29  [\"We believe that the current legislated timef...         text  \n",
       "30  The scarcity of data and the deficiencies in t...         text  \n",
       "31  Maurice Blackburn is of the view that one of t...         text  \n",
       "32  That on-line sexual harassment is criminalised...         text  "
      ]
     },
     "execution_count": 43,
     "metadata": {},
     "output_type": "execute_result"
    }
   ],
   "source": [
    "ground_truth"
   ]
  },
  {
   "cell_type": "code",
   "execution_count": 44,
   "id": "4da3b34e-1d20-4f3f-b6fd-d372d4556a72",
   "metadata": {},
   "outputs": [],
   "source": [
    "ground_truth_text = ground_truth[ground_truth[\"complexity\"]==\"text\"].copy()"
   ]
  },
  {
   "cell_type": "code",
   "execution_count": 45,
   "id": "0a66cf16-5265-410e-9d84-e26102a41a36",
   "metadata": {
    "scrolled": true
   },
   "outputs": [
    {
     "data": {
      "text/html": [
       "<div>\n",
       "<style scoped>\n",
       "    .dataframe tbody tr th:only-of-type {\n",
       "        vertical-align: middle;\n",
       "    }\n",
       "\n",
       "    .dataframe tbody tr th {\n",
       "        vertical-align: top;\n",
       "    }\n",
       "\n",
       "    .dataframe thead th {\n",
       "        text-align: right;\n",
       "    }\n",
       "</style>\n",
       "<table border=\"1\" class=\"dataframe\">\n",
       "  <thead>\n",
       "    <tr style=\"text-align: right;\">\n",
       "      <th></th>\n",
       "      <th>document</th>\n",
       "      <th>relevant questions</th>\n",
       "      <th>answer</th>\n",
       "      <th>complexity</th>\n",
       "    </tr>\n",
       "  </thead>\n",
       "  <tbody>\n",
       "    <tr>\n",
       "      <th>19</th>\n",
       "      <td>DR--182866691_INTRO</td>\n",
       "      <td>What is the Oregon Section's annual Traffic Bo...</td>\n",
       "      <td>The Student Liaison Committee had another succ...</td>\n",
       "      <td>text</td>\n",
       "    </tr>\n",
       "    <tr>\n",
       "      <th>20</th>\n",
       "      <td>DR--182866691_INTRO</td>\n",
       "      <td>The participating schools of the Traffic Bowl ...</td>\n",
       "      <td>This year we had 52 students from six universi...</td>\n",
       "      <td>text</td>\n",
       "    </tr>\n",
       "    <tr>\n",
       "      <th>21</th>\n",
       "      <td>DR--182866691_INTRO</td>\n",
       "      <td>How do you think the donations from the local ...</td>\n",
       "      <td>University of Portland took home the grand pri...</td>\n",
       "      <td>text</td>\n",
       "    </tr>\n",
       "    <tr>\n",
       "      <th>22</th>\n",
       "      <td>DR--182866691_INTRO</td>\n",
       "      <td>Discuss the Oregon Section's website.</td>\n",
       "      <td>This year the Oregon Section retained the doma...</td>\n",
       "      <td>text</td>\n",
       "    </tr>\n",
       "    <tr>\n",
       "      <th>23</th>\n",
       "      <td>DR--182866691_INTRO</td>\n",
       "      <td>What do you know about the 18th annual ITE Gol...</td>\n",
       "      <td>The Oregon Section hosted its 18th annual ITE ...</td>\n",
       "      <td>text</td>\n",
       "    </tr>\n",
       "    <tr>\n",
       "      <th>24</th>\n",
       "      <td>DR--182866691_INTRO</td>\n",
       "      <td>What are the standard rules of a golf game?</td>\n",
       "      <td>NaN</td>\n",
       "      <td>text</td>\n",
       "    </tr>\n",
       "    <tr>\n",
       "      <th>25</th>\n",
       "      <td>DR--182866691_INTRO</td>\n",
       "      <td>How do you think the token gifts motivate the ...</td>\n",
       "      <td>NaN</td>\n",
       "      <td>text</td>\n",
       "    </tr>\n",
       "    <tr>\n",
       "      <th>26</th>\n",
       "      <td>DR--182866691_INTRO</td>\n",
       "      <td>How was the District 6 meeting a huge success?</td>\n",
       "      <td>The District 6 meeting was a huge success in t...</td>\n",
       "      <td>text</td>\n",
       "    </tr>\n",
       "    <tr>\n",
       "      <th>27</th>\n",
       "      <td>DR--182866691_INTRO</td>\n",
       "      <td>Which award was granted over the past year? To...</td>\n",
       "      <td>Award Name: Traffic Bowl - First Place Award R...</td>\n",
       "      <td>text</td>\n",
       "    </tr>\n",
       "    <tr>\n",
       "      <th>28</th>\n",
       "      <td>DR--14627260_INTRO</td>\n",
       "      <td>How do you think sexual harassment as an issue...</td>\n",
       "      <td>NaN</td>\n",
       "      <td>text</td>\n",
       "    </tr>\n",
       "    <tr>\n",
       "      <th>29</th>\n",
       "      <td>DR--14627260_INTRO</td>\n",
       "      <td>What legislative suggestions pertaining to wor...</td>\n",
       "      <td>[\"We believe that the current legislated timef...</td>\n",
       "      <td>text</td>\n",
       "    </tr>\n",
       "    <tr>\n",
       "      <th>30</th>\n",
       "      <td>DR--14627260_INTRO</td>\n",
       "      <td>How does the scarcity of data on mediations im...</td>\n",
       "      <td>The scarcity of data and the deficiencies in t...</td>\n",
       "      <td>text</td>\n",
       "    </tr>\n",
       "    <tr>\n",
       "      <th>31</th>\n",
       "      <td>DR--14627260_INTRO</td>\n",
       "      <td>What and why the firm designates as one of the...</td>\n",
       "      <td>Maurice Blackburn is of the view that one of t...</td>\n",
       "      <td>text</td>\n",
       "    </tr>\n",
       "    <tr>\n",
       "      <th>32</th>\n",
       "      <td>DR--14627260_INTRO</td>\n",
       "      <td>In what cases should online sexual harassment ...</td>\n",
       "      <td>That on-line sexual harassment is criminalised...</td>\n",
       "      <td>text</td>\n",
       "    </tr>\n",
       "  </tbody>\n",
       "</table>\n",
       "</div>"
      ],
      "text/plain": [
       "               document                                 relevant questions  \\\n",
       "19  DR--182866691_INTRO  What is the Oregon Section's annual Traffic Bo...   \n",
       "20  DR--182866691_INTRO  The participating schools of the Traffic Bowl ...   \n",
       "21  DR--182866691_INTRO  How do you think the donations from the local ...   \n",
       "22  DR--182866691_INTRO              Discuss the Oregon Section's website.   \n",
       "23  DR--182866691_INTRO  What do you know about the 18th annual ITE Gol...   \n",
       "24  DR--182866691_INTRO        What are the standard rules of a golf game?   \n",
       "25  DR--182866691_INTRO  How do you think the token gifts motivate the ...   \n",
       "26  DR--182866691_INTRO     How was the District 6 meeting a huge success?   \n",
       "27  DR--182866691_INTRO  Which award was granted over the past year? To...   \n",
       "28   DR--14627260_INTRO  How do you think sexual harassment as an issue...   \n",
       "29   DR--14627260_INTRO  What legislative suggestions pertaining to wor...   \n",
       "30   DR--14627260_INTRO  How does the scarcity of data on mediations im...   \n",
       "31   DR--14627260_INTRO  What and why the firm designates as one of the...   \n",
       "32   DR--14627260_INTRO  In what cases should online sexual harassment ...   \n",
       "\n",
       "                                               answer complexity  \n",
       "19  The Student Liaison Committee had another succ...       text  \n",
       "20  This year we had 52 students from six universi...       text  \n",
       "21  University of Portland took home the grand pri...       text  \n",
       "22  This year the Oregon Section retained the doma...       text  \n",
       "23  The Oregon Section hosted its 18th annual ITE ...       text  \n",
       "24                                                NaN       text  \n",
       "25                                                NaN       text  \n",
       "26  The District 6 meeting was a huge success in t...       text  \n",
       "27  Award Name: Traffic Bowl - First Place Award R...       text  \n",
       "28                                                NaN       text  \n",
       "29  [\"We believe that the current legislated timef...       text  \n",
       "30  The scarcity of data and the deficiencies in t...       text  \n",
       "31  Maurice Blackburn is of the view that one of t...       text  \n",
       "32  That on-line sexual harassment is criminalised...       text  "
      ]
     },
     "execution_count": 45,
     "metadata": {},
     "output_type": "execute_result"
    }
   ],
   "source": [
    "ground_truth_text"
   ]
  },
  {
   "cell_type": "code",
   "execution_count": null,
   "id": "0097d7ac-f669-4bd6-a712-e65ee8d317e2",
   "metadata": {},
   "outputs": [],
   "source": []
  },
  {
   "cell_type": "markdown",
   "id": "7a13d8e5-503b-476f-99de-5b715cdcf062",
   "metadata": {},
   "source": [
    "# Inference"
   ]
  },
  {
   "cell_type": "code",
   "execution_count": 61,
   "id": "f3c8cf26-9cc9-4284-9278-aafb07161bef",
   "metadata": {},
   "outputs": [],
   "source": [
    "def test_case():\n",
    "    query = [\"What legislative suggestions pertaining to workplace sexual harassment does the firm provide in its submission?\", \n",
    "                  \"What legislative suggestions pertaining to workplace sexual harassment does the firm provide in its submission?\"]\n",
    "    return faiss_inference(query)[0] == faiss_inference(query)[1]"
   ]
  },
  {
   "cell_type": "code",
   "execution_count": 55,
   "id": "d286fa6b-cc2b-4e58-95f4-13b27119d1e4",
   "metadata": {},
   "outputs": [],
   "source": [
    "def faiss_inference(query, k=4):\n",
    "    if isinstance(query, list):\n",
    "        xq = model.encode(query)\n",
    "        D, I = index.search(xq, k)\n",
    "        retrieved_items = [[all_data[i] for i in sublist] for sublist in I]\n",
    "        assert test_case()\n",
    "    else:\n",
    "        xq = model.encode([query])\n",
    "        D, I = index.search(xq, k)\n",
    "        retrieved_items = [all_data[i] for i in list(I[0])]\n",
    "    return retrieved_items    "
   ]
  },
  {
   "cell_type": "code",
   "execution_count": 66,
   "id": "5961ba59-be31-4b0c-a5af-1251a761054a",
   "metadata": {},
   "outputs": [],
   "source": [
    "test_data = list(ground_truth_text[\"relevant questions\"])"
   ]
  },
  {
   "cell_type": "code",
   "execution_count": 67,
   "id": "d94273d5-93bd-4385-8436-b40e53a7555e",
   "metadata": {},
   "outputs": [],
   "source": [
    "ret_context = faiss_inference(test_data)"
   ]
  },
  {
   "cell_type": "markdown",
   "id": "d76df83f-1446-4f4f-baab-3dec9b18eace",
   "metadata": {},
   "source": [
    "# Testing "
   ]
  },
  {
   "cell_type": "code",
   "execution_count": 150,
   "id": "b4a156b1-1653-4c5a-b8d6-f5bab6d43a82",
   "metadata": {},
   "outputs": [],
   "source": [
    "def recall_k(test_labels, ret_context, k=len(ret_context[0])):\n",
    "    ctr = 0\n",
    "    for i in range(len(ret_context)):\n",
    "        if isinstance(test_labels[i], float):\n",
    "            continue\n",
    "        for j in range(min(k,len(ret_context))):\n",
    "            if fuzz.ratio(test_labels[i], ret_context[i][j])>=95:\n",
    "                # print (\"test_labels:\", test_labels[i], \"\\n\", \"ret_context:\", ret_context[i][j])\n",
    "                ctr += 1\n",
    "                break\n",
    "    return ctr/len(ret_context)"
   ]
  },
  {
   "cell_type": "code",
   "execution_count": 151,
   "id": "a01826fd-fda0-428b-90c8-631eb3a882d0",
   "metadata": {},
   "outputs": [
    {
     "data": {
      "text/plain": [
       "0.35714285714285715"
      ]
     },
     "execution_count": 151,
     "metadata": {},
     "output_type": "execute_result"
    }
   ],
   "source": [
    "recall_k(test_labels, ret_context)"
   ]
  },
  {
   "cell_type": "code",
   "execution_count": null,
   "id": "d443cce1-1d24-449b-99c8-e3f1e4c67e4a",
   "metadata": {},
   "outputs": [],
   "source": []
  }
 ],
 "metadata": {
  "kernelspec": {
   "display_name": "Python 3 (ipykernel)",
   "language": "python",
   "name": "python3"
  },
  "language_info": {
   "codemirror_mode": {
    "name": "ipython",
    "version": 3
   },
   "file_extension": ".py",
   "mimetype": "text/x-python",
   "name": "python",
   "nbconvert_exporter": "python",
   "pygments_lexer": "ipython3",
   "version": "3.12.1"
  }
 },
 "nbformat": 4,
 "nbformat_minor": 5
}
