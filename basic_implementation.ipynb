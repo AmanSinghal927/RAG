{
 "cells": [
  {
   "cell_type": "code",
   "execution_count": 78,
   "id": "9a40999e-0b95-408e-92d9-a0658303150e",
   "metadata": {},
   "outputs": [
    {
     "name": "stderr",
     "output_type": "stream",
     "text": [
      "C:\\Users\\J C SINGLA\\miniconda3\\Lib\\site-packages\\fuzzywuzzy\\fuzz.py:11: UserWarning: Using slow pure-python SequenceMatcher. Install python-Levenshtein to remove this warning\n",
      "  warnings.warn('Using slow pure-python SequenceMatcher. Install python-Levenshtein to remove this warning')\n"
     ]
    }
   ],
   "source": [
    "import pandas as pd\n",
    "import json \n",
    "from sentence_transformers import SentenceTransformer\n",
    "import glob\n",
    "import faiss\n",
    "from fuzzywuzzy import fuzz"
   ]
  },
  {
   "cell_type": "code",
   "execution_count": 2,
   "id": "ade7a583-acb1-4107-be6e-35813b78e4e2",
   "metadata": {},
   "outputs": [],
   "source": [
    "# !pip install pandas\n",
    "# !pip install sentence-transformers\n",
    "# !pip install openpyxl\n",
    "# !pip install fuzzywuzzy"
   ]
  },
  {
   "cell_type": "markdown",
   "id": "8dd2b380-3866-4138-9f5a-945bb8498db4",
   "metadata": {},
   "source": [
    "## Load model"
   ]
  },
  {
   "cell_type": "code",
   "execution_count": 4,
   "id": "404a7c77-587e-438d-ac55-ab7da7a68b44",
   "metadata": {
    "scrolled": true
   },
   "outputs": [],
   "source": [
    "model = SentenceTransformer('bert-base-nli-mean-tokens')"
   ]
  },
  {
   "cell_type": "code",
   "execution_count": 5,
   "id": "91659119-0abc-42a2-98d4-75a86a967f59",
   "metadata": {},
   "outputs": [],
   "source": [
    "def split_data(data):\n",
    "    return data[\"raw_text\"].split(\"\\n\")"
   ]
  },
  {
   "cell_type": "code",
   "execution_count": 6,
   "id": "855dae87-3a47-4e5d-8e69-e6ec449afb46",
   "metadata": {},
   "outputs": [],
   "source": [
    "def read_json_from_folders(directory_path):\n",
    "    \"\"\"\n",
    "    Reads all JSON files from each folder in the specified directory.\n",
    "\n",
    "    :param directory_path: Path to the directory containing folders of JSON files.\n",
    "    :return: A list of dictionaries where each dictionary contains data from a single JSON file.\n",
    "    \"\"\"\n",
    "    all_data = []\n",
    "    filenames = []\n",
    "    search_pattern = f\"{directory_path}/*/*.json\"\n",
    "    for file_path in glob.glob(search_pattern):\n",
    "        with open(file_path, 'r') as file:\n",
    "            data = json.load(file)\n",
    "            data = split_data(data)\n",
    "            filenames.extend([file_path]*len(data))\n",
    "            all_data.extend(data)\n",
    "    return all_data, filenames"
   ]
  },
  {
   "cell_type": "code",
   "execution_count": 7,
   "id": "32cfc20a-1b02-4e7f-9aa8-d75a06cbd8f8",
   "metadata": {},
   "outputs": [],
   "source": [
    "directory_path = r'C:\\Users\\J C SINGLA\\Downloads\\External - take_home_challenge_(withJSONs)\\take_home_challenge_(withJSONs)\\raw_text'\n",
    "all_data, filenames = read_json_from_folders(directory_path)"
   ]
  },
  {
   "cell_type": "code",
   "execution_count": 8,
   "id": "1880cdee-c393-4441-9e15-ff93a97ee3b6",
   "metadata": {},
   "outputs": [],
   "source": [
    "doc_name = \"DR--110685614\"\n",
    "subset_str = \"C:\\\\Users\\\\J C SINGLA\\\\Downloads\\\\External - take_home_challenge_(withJSONs)\\\\take_home_challenge_(withJSONs)\\\\raw_text\\\\\" +doc_name+\"\\\\raw_text.json\""
   ]
  },
  {
   "cell_type": "code",
   "execution_count": 9,
   "id": "4cba77b4-d4a9-463d-af8a-09319afc0c7c",
   "metadata": {},
   "outputs": [],
   "source": [
    "sentence_embeddings = model.encode(all_data)"
   ]
  },
  {
   "cell_type": "code",
   "execution_count": 10,
   "id": "6480d6af-284f-44f5-8970-f9fe536935b1",
   "metadata": {},
   "outputs": [
    {
     "data": {
      "text/plain": [
       "(428, 768)"
      ]
     },
     "execution_count": 10,
     "metadata": {},
     "output_type": "execute_result"
    }
   ],
   "source": [
    "sentence_embeddings.shape"
   ]
  },
  {
   "cell_type": "markdown",
   "id": "fdae5ded-629d-4321-bcdc-b82acb61dc48",
   "metadata": {},
   "source": [
    "# Index Flat2"
   ]
  },
  {
   "cell_type": "code",
   "execution_count": 11,
   "id": "3be255b7-530d-4d78-abaa-9ce4235f0d1c",
   "metadata": {},
   "outputs": [],
   "source": [
    "d = sentence_embeddings.shape[1]\n",
    "index = faiss.IndexFlatL2(d)\n",
    "index.is_trained"
   ]
  },
  {
   "cell_type": "code",
   "execution_count": 12,
   "id": "2a5c9b4e-d71e-42c3-b2a2-ceb405f91cac",
   "metadata": {},
   "outputs": [
    {
     "data": {
      "text/plain": [
       "428"
      ]
     },
     "execution_count": 12,
     "metadata": {},
     "output_type": "execute_result"
    }
   ],
   "source": [
    "index.add(sentence_embeddings)\n",
    "index.ntotal"
   ]
  },
  {
   "cell_type": "code",
   "execution_count": null,
   "id": "46837061-df79-45e7-a5d8-b57f0b6dd320",
   "metadata": {},
   "outputs": [],
   "source": []
  },
  {
   "cell_type": "markdown",
   "id": "892ab5a1-8924-42aa-879b-5310e4a4af14",
   "metadata": {},
   "source": [
    "# Ground Truth"
   ]
  },
  {
   "cell_type": "code",
   "execution_count": 41,
   "id": "557643c4-a50b-4ddc-89ad-d6a2f8f729f8",
   "metadata": {},
   "outputs": [],
   "source": [
    "ground_truth_path = r\"C:\\Users\\J C SINGLA\\Downloads\\External - take_home_challenge_(withJSONs)\\take_home_challenge_(withJSONs)\\document_questions.xlsx\""
   ]
  },
  {
   "cell_type": "code",
   "execution_count": 42,
   "id": "5123d726-3b8f-4228-8728-67022a5d2129",
   "metadata": {},
   "outputs": [],
   "source": [
    "ground_truth = pd.read_excel(ground_truth_path)"
   ]
  },
  {
   "cell_type": "code",
   "execution_count": 43,
   "id": "24052cde-b1a5-4428-af30-1a2d6280d7f0",
   "metadata": {
    "scrolled": true
   },
   "outputs": [
    {
     "data": {
      "text/html": [
       "<div>\n",
       "<style scoped>\n",
       "    .dataframe tbody tr th:only-of-type {\n",
       "        vertical-align: middle;\n",
       "    }\n",
       "\n",
       "    .dataframe tbody tr th {\n",
       "        vertical-align: top;\n",
       "    }\n",
       "\n",
       "    .dataframe thead th {\n",
       "        text-align: right;\n",
       "    }\n",
       "</style>\n",
       "<table border=\"1\" class=\"dataframe\">\n",
       "  <thead>\n",
       "    <tr style=\"text-align: right;\">\n",
       "      <th></th>\n",
       "      <th>document</th>\n",
       "      <th>relevant questions</th>\n",
       "      <th>answer</th>\n",
       "      <th>complexity</th>\n",
       "    </tr>\n",
       "  </thead>\n",
       "  <tbody>\n",
       "    <tr>\n",
       "      <th>0</th>\n",
       "      <td>DR--185549702_INTRO</td>\n",
       "      <td>What is meant by \"computational finance\"?</td>\n",
       "      <td>NaN</td>\n",
       "      <td>no raw_text</td>\n",
       "    </tr>\n",
       "    <tr>\n",
       "      <th>1</th>\n",
       "      <td>DR--185549702_INTRO</td>\n",
       "      <td>What is meant by 'investor heterogeneity'?</td>\n",
       "      <td>NaN</td>\n",
       "      <td>no raw_text</td>\n",
       "    </tr>\n",
       "    <tr>\n",
       "      <th>2</th>\n",
       "      <td>DR--185549702_INTRO</td>\n",
       "      <td>What was the revolution witnessed by finance i...</td>\n",
       "      <td>NaN</td>\n",
       "      <td>no raw_text</td>\n",
       "    </tr>\n",
       "    <tr>\n",
       "      <th>3</th>\n",
       "      <td>DR--185549702_INTRO</td>\n",
       "      <td>Why do you think financial markets are viewed ...</td>\n",
       "      <td>NaN</td>\n",
       "      <td>no raw_text</td>\n",
       "    </tr>\n",
       "    <tr>\n",
       "      <th>4</th>\n",
       "      <td>DR--185549702_INTRO</td>\n",
       "      <td>Why are the financial markets appealing applic...</td>\n",
       "      <td>NaN</td>\n",
       "      <td>no raw_text</td>\n",
       "    </tr>\n",
       "    <tr>\n",
       "      <th>5</th>\n",
       "      <td>DR--185549702_INTRO</td>\n",
       "      <td>What are the different design questions in con...</td>\n",
       "      <td>NaN</td>\n",
       "      <td>no raw_text</td>\n",
       "    </tr>\n",
       "    <tr>\n",
       "      <th>6</th>\n",
       "      <td>DR--185549702_INTRO</td>\n",
       "      <td>Discuss Lettau’s framework using various mathe...</td>\n",
       "      <td>NaN</td>\n",
       "      <td>no raw_text</td>\n",
       "    </tr>\n",
       "    <tr>\n",
       "      <th>7</th>\n",
       "      <td>DR--185549702_INTRO</td>\n",
       "      <td>The exchange rate is given by what formula?</td>\n",
       "      <td>NaN</td>\n",
       "      <td>no raw_text</td>\n",
       "    </tr>\n",
       "    <tr>\n",
       "      <th>8</th>\n",
       "      <td>DR--185549702_INTRO</td>\n",
       "      <td>Discuss the criticisms of agent-based markets.</td>\n",
       "      <td>NaN</td>\n",
       "      <td>no raw_text</td>\n",
       "    </tr>\n",
       "    <tr>\n",
       "      <th>9</th>\n",
       "      <td>DR--185549702_INTRO</td>\n",
       "      <td>How is timing an ignored final problem?</td>\n",
       "      <td>NaN</td>\n",
       "      <td>no raw_text</td>\n",
       "    </tr>\n",
       "    <tr>\n",
       "      <th>10</th>\n",
       "      <td>DR--110685614</td>\n",
       "      <td>What is the earliest that I can depart from Do...</td>\n",
       "      <td>NaN</td>\n",
       "      <td>table</td>\n",
       "    </tr>\n",
       "    <tr>\n",
       "      <th>11</th>\n",
       "      <td>DR--110685614</td>\n",
       "      <td>Is it a departure from the College stop after ...</td>\n",
       "      <td>NaN</td>\n",
       "      <td>table</td>\n",
       "    </tr>\n",
       "    <tr>\n",
       "      <th>12</th>\n",
       "      <td>DR--110685614</td>\n",
       "      <td>What are the destinations of the express bus?</td>\n",
       "      <td>NaN</td>\n",
       "      <td>table</td>\n",
       "    </tr>\n",
       "    <tr>\n",
       "      <th>13</th>\n",
       "      <td>DR--110685614</td>\n",
       "      <td>at what time is the last opportunity someone c...</td>\n",
       "      <td>NaN</td>\n",
       "      <td>table</td>\n",
       "    </tr>\n",
       "    <tr>\n",
       "      <th>14</th>\n",
       "      <td>DR--2256935</td>\n",
       "      <td>What was the gross profit of three months ende...</td>\n",
       "      <td>NaN</td>\n",
       "      <td>table</td>\n",
       "    </tr>\n",
       "    <tr>\n",
       "      <th>15</th>\n",
       "      <td>DR--2256935</td>\n",
       "      <td>How much percentage difference of goods sold b...</td>\n",
       "      <td>NaN</td>\n",
       "      <td>table</td>\n",
       "    </tr>\n",
       "    <tr>\n",
       "      <th>16</th>\n",
       "      <td>DR--2256935</td>\n",
       "      <td>In which year were there the greatest total as...</td>\n",
       "      <td>NaN</td>\n",
       "      <td>table</td>\n",
       "    </tr>\n",
       "    <tr>\n",
       "      <th>17</th>\n",
       "      <td>DR--2256935</td>\n",
       "      <td>In which year were there the greatest total li...</td>\n",
       "      <td>NaN</td>\n",
       "      <td>table</td>\n",
       "    </tr>\n",
       "    <tr>\n",
       "      <th>18</th>\n",
       "      <td>DR--182866691_INTRO</td>\n",
       "      <td>How varied were the subjects of the different ...</td>\n",
       "      <td>NaN</td>\n",
       "      <td>table</td>\n",
       "    </tr>\n",
       "    <tr>\n",
       "      <th>19</th>\n",
       "      <td>DR--182866691_INTRO</td>\n",
       "      <td>What is the Oregon Section's annual Traffic Bo...</td>\n",
       "      <td>The Student Liaison Committee had another succ...</td>\n",
       "      <td>text</td>\n",
       "    </tr>\n",
       "    <tr>\n",
       "      <th>20</th>\n",
       "      <td>DR--182866691_INTRO</td>\n",
       "      <td>The participating schools of the Traffic Bowl ...</td>\n",
       "      <td>This year we had 52 students from six universi...</td>\n",
       "      <td>text</td>\n",
       "    </tr>\n",
       "    <tr>\n",
       "      <th>21</th>\n",
       "      <td>DR--182866691_INTRO</td>\n",
       "      <td>How do you think the donations from the local ...</td>\n",
       "      <td>University of Portland took home the grand pri...</td>\n",
       "      <td>text</td>\n",
       "    </tr>\n",
       "    <tr>\n",
       "      <th>22</th>\n",
       "      <td>DR--182866691_INTRO</td>\n",
       "      <td>Discuss the Oregon Section's website.</td>\n",
       "      <td>This year the Oregon Section retained the doma...</td>\n",
       "      <td>text</td>\n",
       "    </tr>\n",
       "    <tr>\n",
       "      <th>23</th>\n",
       "      <td>DR--182866691_INTRO</td>\n",
       "      <td>What do you know about the 18th annual ITE Gol...</td>\n",
       "      <td>The Oregon Section hosted its 18th annual ITE ...</td>\n",
       "      <td>text</td>\n",
       "    </tr>\n",
       "    <tr>\n",
       "      <th>24</th>\n",
       "      <td>DR--182866691_INTRO</td>\n",
       "      <td>What are the standard rules of a golf game?</td>\n",
       "      <td>NaN</td>\n",
       "      <td>text</td>\n",
       "    </tr>\n",
       "    <tr>\n",
       "      <th>25</th>\n",
       "      <td>DR--182866691_INTRO</td>\n",
       "      <td>How do you think the token gifts motivate the ...</td>\n",
       "      <td>NaN</td>\n",
       "      <td>text</td>\n",
       "    </tr>\n",
       "    <tr>\n",
       "      <th>26</th>\n",
       "      <td>DR--182866691_INTRO</td>\n",
       "      <td>How was the District 6 meeting a huge success?</td>\n",
       "      <td>The District 6 meeting was a huge success in t...</td>\n",
       "      <td>text</td>\n",
       "    </tr>\n",
       "    <tr>\n",
       "      <th>27</th>\n",
       "      <td>DR--182866691_INTRO</td>\n",
       "      <td>Which award was granted over the past year? To...</td>\n",
       "      <td>Award Name: Traffic Bowl - First Place Award R...</td>\n",
       "      <td>text</td>\n",
       "    </tr>\n",
       "    <tr>\n",
       "      <th>28</th>\n",
       "      <td>DR--14627260_INTRO</td>\n",
       "      <td>How do you think sexual harassment as an issue...</td>\n",
       "      <td>NaN</td>\n",
       "      <td>text</td>\n",
       "    </tr>\n",
       "    <tr>\n",
       "      <th>29</th>\n",
       "      <td>DR--14627260_INTRO</td>\n",
       "      <td>What legislative suggestions pertaining to wor...</td>\n",
       "      <td>[\"We believe that the current legislated timef...</td>\n",
       "      <td>text</td>\n",
       "    </tr>\n",
       "    <tr>\n",
       "      <th>30</th>\n",
       "      <td>DR--14627260_INTRO</td>\n",
       "      <td>How does the scarcity of data on mediations im...</td>\n",
       "      <td>The scarcity of data and the deficiencies in t...</td>\n",
       "      <td>text</td>\n",
       "    </tr>\n",
       "    <tr>\n",
       "      <th>31</th>\n",
       "      <td>DR--14627260_INTRO</td>\n",
       "      <td>What and why the firm designates as one of the...</td>\n",
       "      <td>Maurice Blackburn is of the view that one of t...</td>\n",
       "      <td>text</td>\n",
       "    </tr>\n",
       "    <tr>\n",
       "      <th>32</th>\n",
       "      <td>DR--14627260_INTRO</td>\n",
       "      <td>In what cases should online sexual harassment ...</td>\n",
       "      <td>That on-line sexual harassment is criminalised...</td>\n",
       "      <td>text</td>\n",
       "    </tr>\n",
       "  </tbody>\n",
       "</table>\n",
       "</div>"
      ],
      "text/plain": [
       "               document                                 relevant questions  \\\n",
       "0   DR--185549702_INTRO          What is meant by \"computational finance\"?   \n",
       "1   DR--185549702_INTRO         What is meant by 'investor heterogeneity'?   \n",
       "2   DR--185549702_INTRO  What was the revolution witnessed by finance i...   \n",
       "3   DR--185549702_INTRO  Why do you think financial markets are viewed ...   \n",
       "4   DR--185549702_INTRO  Why are the financial markets appealing applic...   \n",
       "5   DR--185549702_INTRO  What are the different design questions in con...   \n",
       "6   DR--185549702_INTRO  Discuss Lettau’s framework using various mathe...   \n",
       "7   DR--185549702_INTRO        The exchange rate is given by what formula?   \n",
       "8   DR--185549702_INTRO     Discuss the criticisms of agent-based markets.   \n",
       "9   DR--185549702_INTRO            How is timing an ignored final problem?   \n",
       "10        DR--110685614  What is the earliest that I can depart from Do...   \n",
       "11        DR--110685614  Is it a departure from the College stop after ...   \n",
       "12        DR--110685614      What are the destinations of the express bus?   \n",
       "13        DR--110685614  at what time is the last opportunity someone c...   \n",
       "14          DR--2256935  What was the gross profit of three months ende...   \n",
       "15          DR--2256935  How much percentage difference of goods sold b...   \n",
       "16          DR--2256935  In which year were there the greatest total as...   \n",
       "17          DR--2256935  In which year were there the greatest total li...   \n",
       "18  DR--182866691_INTRO  How varied were the subjects of the different ...   \n",
       "19  DR--182866691_INTRO  What is the Oregon Section's annual Traffic Bo...   \n",
       "20  DR--182866691_INTRO  The participating schools of the Traffic Bowl ...   \n",
       "21  DR--182866691_INTRO  How do you think the donations from the local ...   \n",
       "22  DR--182866691_INTRO              Discuss the Oregon Section's website.   \n",
       "23  DR--182866691_INTRO  What do you know about the 18th annual ITE Gol...   \n",
       "24  DR--182866691_INTRO        What are the standard rules of a golf game?   \n",
       "25  DR--182866691_INTRO  How do you think the token gifts motivate the ...   \n",
       "26  DR--182866691_INTRO     How was the District 6 meeting a huge success?   \n",
       "27  DR--182866691_INTRO  Which award was granted over the past year? To...   \n",
       "28   DR--14627260_INTRO  How do you think sexual harassment as an issue...   \n",
       "29   DR--14627260_INTRO  What legislative suggestions pertaining to wor...   \n",
       "30   DR--14627260_INTRO  How does the scarcity of data on mediations im...   \n",
       "31   DR--14627260_INTRO  What and why the firm designates as one of the...   \n",
       "32   DR--14627260_INTRO  In what cases should online sexual harassment ...   \n",
       "\n",
       "                                               answer   complexity  \n",
       "0                                                 NaN  no raw_text  \n",
       "1                                                 NaN  no raw_text  \n",
       "2                                                 NaN  no raw_text  \n",
       "3                                                 NaN  no raw_text  \n",
       "4                                                 NaN  no raw_text  \n",
       "5                                                 NaN  no raw_text  \n",
       "6                                                 NaN  no raw_text  \n",
       "7                                                 NaN  no raw_text  \n",
       "8                                                 NaN  no raw_text  \n",
       "9                                                 NaN  no raw_text  \n",
       "10                                                NaN        table  \n",
       "11                                                NaN        table  \n",
       "12                                                NaN        table  \n",
       "13                                                NaN        table  \n",
       "14                                                NaN        table  \n",
       "15                                                NaN        table  \n",
       "16                                                NaN        table  \n",
       "17                                                NaN        table  \n",
       "18                                                NaN        table  \n",
       "19  The Student Liaison Committee had another succ...         text  \n",
       "20  This year we had 52 students from six universi...         text  \n",
       "21  University of Portland took home the grand pri...         text  \n",
       "22  This year the Oregon Section retained the doma...         text  \n",
       "23  The Oregon Section hosted its 18th annual ITE ...         text  \n",
       "24                                                NaN         text  \n",
       "25                                                NaN         text  \n",
       "26  The District 6 meeting was a huge success in t...         text  \n",
       "27  Award Name: Traffic Bowl - First Place Award R...         text  \n",
       "28                                                NaN         text  \n",
       "29  [\"We believe that the current legislated timef...         text  \n",
       "30  The scarcity of data and the deficiencies in t...         text  \n",
       "31  Maurice Blackburn is of the view that one of t...         text  \n",
       "32  That on-line sexual harassment is criminalised...         text  "
      ]
     },
     "execution_count": 43,
     "metadata": {},
     "output_type": "execute_result"
    }
   ],
   "source": [
    "ground_truth"
   ]
  },
  {
   "cell_type": "code",
   "execution_count": 44,
   "id": "4da3b34e-1d20-4f3f-b6fd-d372d4556a72",
   "metadata": {},
   "outputs": [],
   "source": [
    "ground_truth_text = ground_truth[ground_truth[\"complexity\"]==\"text\"].copy()"
   ]
  },
  {
   "cell_type": "code",
   "execution_count": 45,
   "id": "0a66cf16-5265-410e-9d84-e26102a41a36",
   "metadata": {
    "scrolled": true
   },
   "outputs": [
    {
     "data": {
      "text/html": [
       "<div>\n",
       "<style scoped>\n",
       "    .dataframe tbody tr th:only-of-type {\n",
       "        vertical-align: middle;\n",
       "    }\n",
       "\n",
       "    .dataframe tbody tr th {\n",
       "        vertical-align: top;\n",
       "    }\n",
       "\n",
       "    .dataframe thead th {\n",
       "        text-align: right;\n",
       "    }\n",
       "</style>\n",
       "<table border=\"1\" class=\"dataframe\">\n",
       "  <thead>\n",
       "    <tr style=\"text-align: right;\">\n",
       "      <th></th>\n",
       "      <th>document</th>\n",
       "      <th>relevant questions</th>\n",
       "      <th>answer</th>\n",
       "      <th>complexity</th>\n",
       "    </tr>\n",
       "  </thead>\n",
       "  <tbody>\n",
       "    <tr>\n",
       "      <th>19</th>\n",
       "      <td>DR--182866691_INTRO</td>\n",
       "      <td>What is the Oregon Section's annual Traffic Bo...</td>\n",
       "      <td>The Student Liaison Committee had another succ...</td>\n",
       "      <td>text</td>\n",
       "    </tr>\n",
       "    <tr>\n",
       "      <th>20</th>\n",
       "      <td>DR--182866691_INTRO</td>\n",
       "      <td>The participating schools of the Traffic Bowl ...</td>\n",
       "      <td>This year we had 52 students from six universi...</td>\n",
       "      <td>text</td>\n",
       "    </tr>\n",
       "    <tr>\n",
       "      <th>21</th>\n",
       "      <td>DR--182866691_INTRO</td>\n",
       "      <td>How do you think the donations from the local ...</td>\n",
       "      <td>University of Portland took home the grand pri...</td>\n",
       "      <td>text</td>\n",
       "    </tr>\n",
       "    <tr>\n",
       "      <th>22</th>\n",
       "      <td>DR--182866691_INTRO</td>\n",
       "      <td>Discuss the Oregon Section's website.</td>\n",
       "      <td>This year the Oregon Section retained the doma...</td>\n",
       "      <td>text</td>\n",
       "    </tr>\n",
       "    <tr>\n",
       "      <th>23</th>\n",
       "      <td>DR--182866691_INTRO</td>\n",
       "      <td>What do you know about the 18th annual ITE Gol...</td>\n",
       "      <td>The Oregon Section hosted its 18th annual ITE ...</td>\n",
       "      <td>text</td>\n",
       "    </tr>\n",
       "    <tr>\n",
       "      <th>24</th>\n",
       "      <td>DR--182866691_INTRO</td>\n",
       "      <td>What are the standard rules of a golf game?</td>\n",
       "      <td>NaN</td>\n",
       "      <td>text</td>\n",
       "    </tr>\n",
       "    <tr>\n",
       "      <th>25</th>\n",
       "      <td>DR--182866691_INTRO</td>\n",
       "      <td>How do you think the token gifts motivate the ...</td>\n",
       "      <td>NaN</td>\n",
       "      <td>text</td>\n",
       "    </tr>\n",
       "    <tr>\n",
       "      <th>26</th>\n",
       "      <td>DR--182866691_INTRO</td>\n",
       "      <td>How was the District 6 meeting a huge success?</td>\n",
       "      <td>The District 6 meeting was a huge success in t...</td>\n",
       "      <td>text</td>\n",
       "    </tr>\n",
       "    <tr>\n",
       "      <th>27</th>\n",
       "      <td>DR--182866691_INTRO</td>\n",
       "      <td>Which award was granted over the past year? To...</td>\n",
       "      <td>Award Name: Traffic Bowl - First Place Award R...</td>\n",
       "      <td>text</td>\n",
       "    </tr>\n",
       "    <tr>\n",
       "      <th>28</th>\n",
       "      <td>DR--14627260_INTRO</td>\n",
       "      <td>How do you think sexual harassment as an issue...</td>\n",
       "      <td>NaN</td>\n",
       "      <td>text</td>\n",
       "    </tr>\n",
       "    <tr>\n",
       "      <th>29</th>\n",
       "      <td>DR--14627260_INTRO</td>\n",
       "      <td>What legislative suggestions pertaining to wor...</td>\n",
       "      <td>[\"We believe that the current legislated timef...</td>\n",
       "      <td>text</td>\n",
       "    </tr>\n",
       "    <tr>\n",
       "      <th>30</th>\n",
       "      <td>DR--14627260_INTRO</td>\n",
       "      <td>How does the scarcity of data on mediations im...</td>\n",
       "      <td>The scarcity of data and the deficiencies in t...</td>\n",
       "      <td>text</td>\n",
       "    </tr>\n",
       "    <tr>\n",
       "      <th>31</th>\n",
       "      <td>DR--14627260_INTRO</td>\n",
       "      <td>What and why the firm designates as one of the...</td>\n",
       "      <td>Maurice Blackburn is of the view that one of t...</td>\n",
       "      <td>text</td>\n",
       "    </tr>\n",
       "    <tr>\n",
       "      <th>32</th>\n",
       "      <td>DR--14627260_INTRO</td>\n",
       "      <td>In what cases should online sexual harassment ...</td>\n",
       "      <td>That on-line sexual harassment is criminalised...</td>\n",
       "      <td>text</td>\n",
       "    </tr>\n",
       "  </tbody>\n",
       "</table>\n",
       "</div>"
      ],
      "text/plain": [
       "               document                                 relevant questions  \\\n",
       "19  DR--182866691_INTRO  What is the Oregon Section's annual Traffic Bo...   \n",
       "20  DR--182866691_INTRO  The participating schools of the Traffic Bowl ...   \n",
       "21  DR--182866691_INTRO  How do you think the donations from the local ...   \n",
       "22  DR--182866691_INTRO              Discuss the Oregon Section's website.   \n",
       "23  DR--182866691_INTRO  What do you know about the 18th annual ITE Gol...   \n",
       "24  DR--182866691_INTRO        What are the standard rules of a golf game?   \n",
       "25  DR--182866691_INTRO  How do you think the token gifts motivate the ...   \n",
       "26  DR--182866691_INTRO     How was the District 6 meeting a huge success?   \n",
       "27  DR--182866691_INTRO  Which award was granted over the past year? To...   \n",
       "28   DR--14627260_INTRO  How do you think sexual harassment as an issue...   \n",
       "29   DR--14627260_INTRO  What legislative suggestions pertaining to wor...   \n",
       "30   DR--14627260_INTRO  How does the scarcity of data on mediations im...   \n",
       "31   DR--14627260_INTRO  What and why the firm designates as one of the...   \n",
       "32   DR--14627260_INTRO  In what cases should online sexual harassment ...   \n",
       "\n",
       "                                               answer complexity  \n",
       "19  The Student Liaison Committee had another succ...       text  \n",
       "20  This year we had 52 students from six universi...       text  \n",
       "21  University of Portland took home the grand pri...       text  \n",
       "22  This year the Oregon Section retained the doma...       text  \n",
       "23  The Oregon Section hosted its 18th annual ITE ...       text  \n",
       "24                                                NaN       text  \n",
       "25                                                NaN       text  \n",
       "26  The District 6 meeting was a huge success in t...       text  \n",
       "27  Award Name: Traffic Bowl - First Place Award R...       text  \n",
       "28                                                NaN       text  \n",
       "29  [\"We believe that the current legislated timef...       text  \n",
       "30  The scarcity of data and the deficiencies in t...       text  \n",
       "31  Maurice Blackburn is of the view that one of t...       text  \n",
       "32  That on-line sexual harassment is criminalised...       text  "
      ]
     },
     "execution_count": 45,
     "metadata": {},
     "output_type": "execute_result"
    }
   ],
   "source": [
    "ground_truth_text"
   ]
  },
  {
   "cell_type": "code",
   "execution_count": null,
   "id": "0097d7ac-f669-4bd6-a712-e65ee8d317e2",
   "metadata": {},
   "outputs": [],
   "source": []
  },
  {
   "cell_type": "markdown",
   "id": "7a13d8e5-503b-476f-99de-5b715cdcf062",
   "metadata": {},
   "source": [
    "# Inference"
   ]
  },
  {
   "cell_type": "code",
   "execution_count": 61,
   "id": "f3c8cf26-9cc9-4284-9278-aafb07161bef",
   "metadata": {},
   "outputs": [],
   "source": [
    "def test_case():\n",
    "    query = [\"What legislative suggestions pertaining to workplace sexual harassment does the firm provide in its submission?\", \n",
    "                  \"What legislative suggestions pertaining to workplace sexual harassment does the firm provide in its submission?\"]\n",
    "    return faiss_inference(query)[0] == faiss_inference(query)[1]"
   ]
  },
  {
   "cell_type": "code",
   "execution_count": 55,
   "id": "d286fa6b-cc2b-4e58-95f4-13b27119d1e4",
   "metadata": {},
   "outputs": [],
   "source": [
    "def faiss_inference(query, k=4):\n",
    "    if isinstance(query, list):\n",
    "        xq = model.encode(query)\n",
    "        D, I = index.search(xq, k)\n",
    "        retrieved_items = [[all_data[i] for i in sublist] for sublist in I]\n",
    "        assert test_case()\n",
    "    else:\n",
    "        xq = model.encode([query])\n",
    "        D, I = index.search(xq, k)\n",
    "        retrieved_items = [all_data[i] for i in list(I[0])]\n",
    "    return retrieved_items    "
   ]
  },
  {
   "cell_type": "code",
   "execution_count": 66,
   "id": "5961ba59-be31-4b0c-a5af-1251a761054a",
   "metadata": {},
   "outputs": [],
   "source": [
    "test_data = list(ground_truth_text[\"relevant questions\"])"
   ]
  },
  {
   "cell_type": "code",
   "execution_count": 67,
   "id": "d94273d5-93bd-4385-8436-b40e53a7555e",
   "metadata": {},
   "outputs": [],
   "source": [
    "ret_context = faiss_inference(test_data)"
   ]
  },
  {
   "cell_type": "markdown",
   "id": "d76df83f-1446-4f4f-baab-3dec9b18eace",
   "metadata": {},
   "source": [
    "# Testing "
   ]
  },
  {
   "cell_type": "code",
   "execution_count": 158,
   "id": "b4a156b1-1653-4c5a-b8d6-f5bab6d43a82",
   "metadata": {},
   "outputs": [],
   "source": [
    "def recall_k(test_labels, ret_context, k=len(ret_context[0])):\n",
    "    ctr = 0\n",
    "    correct, incorrect = [], []\n",
    "    for i in range(len(ret_context)):\n",
    "        done = False\n",
    "        if isinstance(test_labels[i], float):\n",
    "            # handle case for when answer is not present in the pdf\n",
    "            continue\n",
    "        for j in range(min(k,len(ret_context))):\n",
    "            if fuzz.ratio(test_labels[i], ret_context[i][j])>=95:\n",
    "                # print (\"test_labels:\", test_labels[i], \"\\n\", \"ret_context:\", ret_context[i][j])\n",
    "                ctr += 1\n",
    "                done = True\n",
    "                break\n",
    "                \n",
    "        if done == False:\n",
    "            incorrect.append({test_labels[i]:ret_context[i]})\n",
    "\n",
    "        else:\n",
    "            correct.append({test_labels[i]:ret_context[i]})\n",
    "\n",
    "    return ctr/len(ret_context), incorrect, correct"
   ]
  },
  {
   "cell_type": "code",
   "execution_count": 159,
   "id": "a01826fd-fda0-428b-90c8-631eb3a882d0",
   "metadata": {},
   "outputs": [],
   "source": [
    "recall, incorrect, correct = recall_k(test_labels, ret_context)"
   ]
  },
  {
   "cell_type": "code",
   "execution_count": 164,
   "id": "bb3a5e58-73cc-4623-bc33-d8cc4de4f449",
   "metadata": {},
   "outputs": [
    {
     "data": {
      "text/plain": [
       "0.35714285714285715"
      ]
     },
     "execution_count": 164,
     "metadata": {},
     "output_type": "execute_result"
    }
   ],
   "source": [
    "recall"
   ]
  },
  {
   "cell_type": "code",
   "execution_count": 211,
   "id": "b5d5fd86-f502-43a2-831c-7942c3974cf2",
   "metadata": {
    "scrolled": true
   },
   "outputs": [
    {
     "data": {
      "text/plain": [
       "dict_keys([\"Award Name: Traffic Bowl - First Place Award Recipient's Name: University of Portland Purpose of Award: To Encourage Student Participation in Oregon Section ITE Form of Award: $400 to Student Chapter\"])"
      ]
     },
     "execution_count": 211,
     "metadata": {},
     "output_type": "execute_result"
    }
   ],
   "source": [
    "incorrect[3].keys()"
   ]
  },
  {
   "cell_type": "code",
   "execution_count": 208,
   "id": "7677e2a5-41c0-4863-b59a-203ab7c5ea39",
   "metadata": {},
   "outputs": [
    {
     "data": {
      "text/plain": [
       "dict_values([[\"The Student Liaison Committee had another successful year in attracting schools from the Pacific Northwest to compete in the Oregon Section's annual Traffic Bowl Competition. The Traffic Bowl is a Jeopardy-based trivia contest where students must answer questions on a variety of traffic and transportation trivia. This year the competition was held on November 15, 2007 at McMenamin's Edgefield just east of Portland, Oregon. \", 'Donations:  $1,450 (Including Traffic Bowl prizes to student chapters) ', 'This year we had 52 students from six universities attending the event. Participating schools were: ', 'Approximately 13 transportation related bills were passed by the Oregon Legislative Assembly during the 2007 session. The topics of the bills vary widely, including issues such as expanding the use of photo radar and red light enforcement, various signing requirements, and gates for light rail pedestrian crossings. Details on the bills are provided to the Oregon Section membership at http://www.oregonite.org/legs/legs2.php. ']])"
      ]
     },
     "execution_count": 208,
     "metadata": {},
     "output_type": "execute_result"
    }
   ],
   "source": [
    "incorrect[0].values()"
   ]
  },
  {
   "cell_type": "code",
   "execution_count": null,
   "id": "102ca72e-e97b-4a1a-a8aa-1ad6f0267f21",
   "metadata": {},
   "outputs": [],
   "source": [
    "# missing chunking - 3\n",
    "# not using tokens for search - 2\n",
    "# too many references to fetch - 1"
   ]
  },
  {
   "cell_type": "code",
   "execution_count": 196,
   "id": "f4c693da-4152-4b1a-86ae-61332034f81f",
   "metadata": {},
   "outputs": [],
   "source": [
    "top10 = faiss_inference(\"In what cases should online sexual harassment be criminalized according to the submission?\", 10)"
   ]
  },
  {
   "cell_type": "code",
   "execution_count": 206,
   "id": "cdaff73e-3bd5-4b5a-a3d3-6d17c73b6ece",
   "metadata": {},
   "outputs": [
    {
     "data": {
      "text/plain": [
       "'Seek injunctive relief and damages from the perpetrators of on-line sexual harassment, and '"
      ]
     },
     "execution_count": 206,
     "metadata": {},
     "output_type": "execute_result"
    }
   ],
   "source": [
    "top10[9]"
   ]
  },
  {
   "cell_type": "code",
   "execution_count": null,
   "id": "c5bc7a0e-6892-477f-8253-0cd83e998d29",
   "metadata": {},
   "outputs": [],
   "source": []
  },
  {
   "cell_type": "markdown",
   "id": "f77c2430-631f-4375-87c7-ce3bded3c33a",
   "metadata": {},
   "source": [
    "# Better chunking"
   ]
  },
  {
   "cell_type": "code",
   "execution_count": 214,
   "id": "3ebc8612-8b48-4546-b293-993614ea2eb8",
   "metadata": {},
   "outputs": [],
   "source": [
    "from llmsherpa.readers import LayoutPDFReader"
   ]
  },
  {
   "cell_type": "code",
   "execution_count": 215,
   "id": "e760adb3-b80c-4dc7-a97f-22895076fac5",
   "metadata": {},
   "outputs": [],
   "source": [
    "# !pip install llmsherpa"
   ]
  },
  {
   "cell_type": "code",
   "execution_count": 243,
   "id": "98fd87cc-0ad6-4fd4-a57b-adbf1e0622c9",
   "metadata": {},
   "outputs": [
    {
     "data": {
      "text/plain": [
       "'C:\\\\Users\\\\J C SINGLA\\\\Downloads\\\\External - take_home_challenge_(withJSONs)\\\\take_home_challenge_(withJSONs)'"
      ]
     },
     "execution_count": 243,
     "metadata": {},
     "output_type": "execute_result"
    }
   ],
   "source": [
    "os.getcwd()"
   ]
  },
  {
   "cell_type": "code",
   "execution_count": 216,
   "id": "a718d924-78a4-41ed-9b8d-b423f2bc05fb",
   "metadata": {},
   "outputs": [],
   "source": [
    "llmsherpa_api_url = \"https://readers.llmsherpa.com/api/document/developer/parseDocument?renderFormat=all\"\n"
   ]
  },
  {
   "cell_type": "code",
   "execution_count": 248,
   "id": "4a711577-75bf-4db1-83c5-959b2c963337",
   "metadata": {},
   "outputs": [],
   "source": [
    "pdf_url = \"/Users/DR--182866691_INTRO.pdf\" # also allowed is a file path e.g. /home/downloads/xyz.pdf\n"
   ]
  },
  {
   "cell_type": "code",
   "execution_count": 249,
   "id": "641ff85a-16a6-4a61-baed-29106715a711",
   "metadata": {},
   "outputs": [],
   "source": [
    "pdf_reader = LayoutPDFReader(llmsherpa_api_url)"
   ]
  },
  {
   "cell_type": "code",
   "execution_count": 250,
   "id": "bae89cc2-6ae1-4387-aa40-465a0082d5af",
   "metadata": {
    "scrolled": true
   },
   "outputs": [],
   "source": [
    "doc = pdf_reader.read_pdf(pdf_url)"
   ]
  },
  {
   "cell_type": "code",
   "execution_count": 252,
   "id": "52755b43-4e81-4a10-8010-70b42edb829d",
   "metadata": {},
   "outputs": [
    {
     "name": "stdout",
     "output_type": "stream",
     "text": [
      "Oregon Section 2007/2008 Annual Report\n",
      "INSTITUTE OF TRANSPORTATION ENGINEERS \n",
      "\n",
      "Oregon Section 2007/2008 Annual Report\n",
      "OREGON SECTION Annual Report April 1, 2007 to March 31, 2008 \n",
      "\n",
      "Oregon Section 2007/2008 Annual Report > Table of Contents\n",
      "Section \n",
      "\n",
      "Oregon Section 2007/2008 Annual Report > Table of Contents\n",
      "Page \n",
      "\n",
      "Oregon Section 2007/2008 Annual Report > Table of Contents > 3. Finances…………………………………………………………………………………………………\n",
      "5 \n",
      "\n",
      "Oregon Section 2007/2008 Annual Report > Table of Contents > 4. Legislative Activities……………………………………………………………………………………\n",
      "6 \n",
      "\n",
      "Oregon Section 2007/2008 Annual Report > 1. OFFICERS\n",
      " | President | Vice President | Secretary/Treasurer | Past President\n",
      " | --- | --- | --- | ---\n",
      " | Pamela O’Brien | Todd Mobley | Bikram Raghubansh | Carl Springer\n",
      " \n",
      "\n",
      "Oregon Section 2007/2008 Annual Report > 1. OFFICERS > Officers and Committee Chairs\n",
      " | OFFICERS | 2006-2007 | 2007-2008\n",
      " | --- | --- | ---\n",
      " | President | Carl Springer | Pamela O’Brien\n",
      " | Vice President | Pamela O’Brien | Todd Mobley\n",
      " | Secretary/Treasurer | Todd Mobley | Bikram Raghubansh\n",
      " | Past President | Massoud Saberian | Carl Springer\n",
      " | CHAIRS\n",
      " | Technical Committee | Dick Raub | Dick Raub\n",
      " | Membership & Publicity Committee | Kristin Austin | Brandy Sularz\n",
      " | Traffic Control Devices Committee | Charles Radosta | Charles Radosta\n",
      " | Student Chapter Committee | Chris Tiesler | Chris Tiesler\n",
      " | Legislative Committee | Kevin Haas | Kevin Haas\n",
      " | Newsletter Editor | Vacant | Vacant\n",
      " | Scribe | Brandy Sularz | Brandy Sularz\n",
      " | Webmaster | Chris Monsere | Michael Tomasini\n",
      " \n",
      "\n",
      "Oregon Section 2007/2008 Annual Report > 1. OFFICERS > Officers and Committee Chairs > 2. MEMBERSHIP\n",
      "The following table provides a summary of the Oregon Section’s membership, including grade and section dues. \n",
      "\n",
      "Oregon Section 2007/2008 Annual Report > 1. OFFICERS > Officers and Committee Chairs > 2. MEMBERSHIP\n",
      " | Membership Grade | Number of People | Section Annual Dues\n",
      " | --- | --- | ---\n",
      " | Fellow | 24 | $25\n",
      " | Member | 153 | $25\n",
      " | Institute Affiliate | 8 | $25\n",
      " | Student Member | 47 | $0*\n",
      " | Esteemed Colleague | 6 | $0\n",
      " | TOTAL | 238 | \n",
      " \n",
      "\n",
      "Oregon Section 2007/2008 Annual Report > 1. OFFICERS > Officers and Committee Chairs > 2. MEMBERSHIP\n",
      "*Note: Students also receive a substantial discount on meeting registration fees. \n",
      "\n",
      "Oregon Section 2007/2008 Annual Report > 1. OFFICERS > Membership Committee:\n",
      "The membership committee continued its organizational captain membership program over the past year.\n",
      "The program was designed to identify specific individuals within public and private organizations who might be interested in joining ITE or attending ITE functions.\n",
      "The captains also assist with advertising meetings, recruiting new members, and promoting ITE. \n",
      "\n",
      "Oregon Section 2007/2008 Annual Report > 1. OFFICERS > Membership Committee: > 3. FINANCES\n",
      "The Oregon Section maintained and enhanced the solid financial position that had been developed over the past several years.\n",
      "The Oregon Section has signed up for online banking and uses a check card for most routine expenditures.\n",
      "Payments and account inquiries are processed faster and the overall number of reimbursement checks are reduced significantly. \n",
      "\n",
      "Oregon Section 2007/2008 Annual Report > 1. OFFICERS > Membership Committee: > 3. FINANCES\n",
      "Most monthly functions for the 2007-08 fiscal year have either broken even or in the case of the January Technical Workshop have had a net income due to better than average attendance.\n",
      "This can be attributed to interesting topics, user-friendly and informative web site as well as the hard work of Section officers and volunteers.\n",
      "The remainder of this page summarizes the Section’s 2007-2008 finances. \n",
      "\n",
      "Oregon Section 2007/2008 Annual Report > 1. OFFICERS > Membership Committee: > Does your section have a Federal Employer Identification Number?\n",
      "34-3400920 Balance of Funds on hand at the Beginning of the Reporting Period: \n",
      "\n",
      "Oregon Section 2007/2008 Annual Report > 1. OFFICERS > Membership Committee: > Does your section have a Federal Employer Identification Number?\n",
      "As of April 1, 2007: $20,308.82 INCOME FOR THE REPORTING PERIOD (April 1, 2007 to March 31, 2008): \n",
      "\n",
      "Oregon Section 2007/2008 Annual Report > 1. OFFICERS > Membership Committee: > Does your section have a Federal Employer Identification Number?\n",
      "Membership Dues: $4,405.00 Gross Income from Meetings: $6,455.00 Investment Income: $ 0.00 Advertising Income: $0.00 (None reported) Other Sources of Income: $5,238.54(Corporate sponsorship at Traffic Bowl) Golf Tournament: $5,455.00 (Corporate sponsorship $1,750.00 + $3,705.00 members) District 6 Student Fund: $3,000.00 \n",
      "\n",
      "Oregon Section 2007/2008 Annual Report > 1. OFFICERS > Membership Committee: > Does your section have a Federal Employer Identification Number? > Total Income: $ 24,553.54\n",
      "EXPENDITURE FOR THE REPORTING PERIOD (April 1, 2007 to March 31, 2008): \n",
      "\n",
      "Oregon Section 2007/2008 Annual Report > 1. OFFICERS > Membership Committee: > Oregon ITE Meetings and Workshops: $8,929.53\n",
      "District 6 Meeting $1,311.66 Donations: $1,450 (Including Traffic Bowl prizes to student chapters) Internet Expenses: $234.00 Other Expenditures: $382.25 (Board Meetings) Golf Tournament: $5,754.82 Miscellaneous: $284.89 (PO box, election costs, etc.) \n",
      "\n",
      "Oregon Section 2007/2008 Annual Report > 1. OFFICERS > Membership Committee: > Oregon ITE Meetings and Workshops: $8,929.53 > Total Expenditures: $18,347.15 > Balance of Funds on hand at the End of the Reporting Period (March 31, 2008):\n",
      "$26,515.21 ($26,394.71 in Bank Account + $120.50 in Petty Cash) \n",
      "\n",
      "Oregon Section 2007/2008 Annual Report > 1. OFFICERS > Membership Committee: > Oregon ITE Meetings and Workshops: $8,929.53 > Total Expenditures: $18,347.15 > Balance of Funds on hand at the End of the Reporting Period (March 31, 2008):\n",
      "Was there a change in the Section Bylaws during this reporting period?\n",
      "No \n",
      "\n",
      "Oregon Section 2007/2008 Annual Report > 1. OFFICERS > 4. LEGISLATIVE ACTIVITIES\n",
      "Approximately 13 transportation related bills were passed by the Oregon Legislative Assembly during the 2007 session.\n",
      "The topics of the bills vary widely, including issues such as expanding the use of photo radar and red light enforcement, various signing requirements, and gates for light rail pedestrian crossings.\n",
      "Details on the bills are provided to the Oregon Section membership at \n",
      "\n",
      "Oregon Section 2007/2008 Annual Report > 1. OFFICERS > 5. MEETINGS\n",
      "The Oregon Section conducted six (6) general meetings and the summer golf tournament over the past year, as well as hosting Joint 2007 ITE District 6 annual meeting.\n",
      "The general meetings included luncheons with speakers, joint-meetings with other professional societies, the annual traffic bowl, and a technical workshop.\n",
      "The table below summarizes the general meetings conducted over the past year and those scheduled for the remainder of 2008. \n",
      "\n",
      "Oregon Section 2007/2008 Annual Report > SOREGON SECTION MEETINGS\n",
      "Sections newly elected officers were announced and a presentation on the Highway 25 emergency reconstruction efforts that followed a large storm on Mt.\n",
      "Hood early 2007. \n",
      "\n",
      "Oregon Section 2007/2008 Annual Report > SOREGON SECTION MEETINGS\n",
      "Oregon ITE section hosted a very successful joint 2007 ITE District 6 Annual Meeting & Quad Conference in Portland.\n",
      "This year’s annual meeting broke many previous records with over 500 meeting participants at the meeting. \n",
      "\n",
      "Oregon Section 2007/2008 Annual Report > SOREGON SECTION MEETINGS\n",
      " | Date | Meeting | Subject | Location | Attendees\n",
      " | --- | --- | --- | --- | ---\n",
      " | 4-10-07 | April - Joint meeting with WTS | Kris Strickler and Danielle Cogan gave a presentation on the Columbia River Crossing project on the I-5 bridge that connects Oregon and Washington. | Embassy Suites Hotel Portland, OR | 60\n",
      " | 5-18-07 | May - Joint meeting with |  |  | \n",
      " \n",
      "\n",
      "Oregon Section 2007/2008 Annual Report > SOREGON SECTION MEETINGS\n",
      "7-15 to 7- 18-07 \n",
      "\n",
      "Oregon Section 2007/2008 Annual Report > SOREGON SECTION MEETINGS > Portland, OR\n",
      "45 \n",
      "\n",
      "Oregon Section 2007/2008 Annual Report > SOREGON SECTION MEETINGS > Portland, OR\n",
      " |  | 500\n",
      " | --- | ---\n",
      " | 9-21-07 | 2007 Golf Tournament | Due to timing of ITE District 6 conference in Portland, this year’s golf tournament was held in late summer. We had good turn out and good\n",
      " | --- | --- | ---\n",
      " | 9-25-07 | September Meeting | Jim Peters (DKS Associates) and Jay McCoy (City of Gresham) gave a presentation on the use of recent SCATS Adaptive Traffic Signal System in City of Gresham, Oregon. | Kells Irish Pub Portland, OR | 56\n",
      " | --- | --- | --- | --- | ---\n",
      " \n",
      "\n",
      "Oregon Section 2007/2008 Annual Report > SOREGON SECTION MEETINGS > Portland, OR\n",
      "57 \n",
      "\n",
      "Oregon Section 2007/2008 Annual Report > SOREGON SECTION MEETINGS > Portland, OR\n",
      "73 corporate sponsorship donations. \n",
      "\n",
      "Oregon Section 2007/2008 Annual Report > SOREGON SECTION MEETINGS > Portland, OR\n",
      "statewide transportation tour, and effort to build support for major investment in Oregon’s transportation system. \n",
      "\n",
      "Oregon Section 2007/2008 Annual Report > SOREGON SECTION MEETINGS > Portland, OR\n",
      " | 10-23-07 | October Meeting | Senator Rick Metsger, Chairman of the Senate Transportation Committee, discussed about congestion pricing and his “Moving Oregon” | Hotel Monaco, Portland, OR\n",
      " | --- | --- | --- | ---\n",
      " | Oregon Golf | Association | (OGA) Golf | Course, | Woodburn, OR\n",
      " | 11-15-07 | 2007 Student Traffic Bowl | Oregon ITE 16th Annual Student Traffic Bowl competition featured six universities from around the northwest. This year’s 1st place prize went to | McMenamins Edgefield Troutdale, OR\n",
      " \n",
      "\n",
      "Oregon Section 2007/2008 Annual Report > SOREGON SECTION MEETINGS > University of Portland, while University of Washington and Oregon Institute of Technologies\n",
      "(OIT) both tied for 2nd place. \n",
      "\n",
      "Oregon Section 2007/2008 Annual Report > SOREGON SECTION MEETINGS > University of Portland, while University of Washington and Oregon Institute of Technologies\n",
      "123 Including 52 students \n",
      "\n",
      "Oregon Section 2007/2008 Annual Report > SOREGON SECTION MEETINGS > University of Portland, while University of Washington and Oregon Institute of Technologies\n",
      " | Date | Meeting | Subject | Location | Attendees\n",
      " | --- | --- | --- | --- | ---\n",
      " | 1-29-08 | January Technical Workshop | The Section sponsored a workshop on tort, liability, ethics, and professionalism in transportation with featured speakers John Mason (Penn State University), Rayann Speakman (FHWA), Karen Dixon (Oregon State | ODOT Region 1 Portland, OR | 48\n",
      " \n",
      "\n",
      "Oregon Section 2007/2008 Annual Report > SOREGON SECTION MEETINGS > University of Portland, while University of Washington and Oregon Institute of Technologies > TBD > Tualatin, OR\n",
      "University), Mike Coleman (City of Portland), Brian Ray, Beth Wemple (Kittelson and Associates), and Ken Crowley (Oregon DOJ). \n",
      "\n",
      "Oregon Section 2007/2008 Annual Report > SOREGON SECTION MEETINGS > University of Portland, while University of Washington and Oregon Institute of Technologies > TBD > Tualatin, OR\n",
      " | 4-2-08 | Happy Hour | Social gathering of the members and guests. | Rogue Brewing, Portland | TBD\n",
      " | --- | --- | --- | --- | ---\n",
      " | 4-8-08 | April - Joint meeting with WTS | Speakers scheduled: Gail Achterman, Chair of the Oregon Transportation Commission, and Richard Ford, Chair of the Washington State Transportation Commission | University Place, Portland, OR | TBD\n",
      " | 5-9-08 | Joint meeting with Oregon Traffic Control Devices Committee (OTCDC) | This end of the year meeting will include announcement of the newly elected Oregon Section officers and will include a presentation |  | \n",
      " \n",
      "\n",
      "Oregon Section 2007/2008 Annual Report > SOREGON SECTION MEETINGS > University of Portland, while University of Washington and Oregon Institute of Technologies > TBD > Tualatin, OR\n",
      "on the TriMet Commuter Rail called WES (Westside Express Services) scheduled for completion in fall 2008. \n",
      "\n",
      "Oregon Section 2007/2008 Annual Report > SOREGON SECTION MEETINGS > 6. TECHNICAL ACTIVITIES: > Technical Committee:\n",
      "The Section sponsored the annual January Technical Workshop on Tort, Liability, Ethics, and Professionalism in Transportation with featured speakers John Mason (Penn State University), Rayann Speakman (FHWA), Karen Dixon (Oregon State University), Mike Coleman (City of Portland), Brian Ray, Beth Wemple (Kittelson and Associates), and Ken Crowley (Oregon DOJ).\n",
      "This workshop was well attended as with years past. \n",
      "\n",
      "Oregon Section 2007/2008 Annual Report > SOREGON SECTION MEETINGS > 6. TECHNICAL ACTIVITIES: > Technical Committee: > 7. STUDENT CHAPTER ACTIVITIES\n",
      "The Student Liaison Committee had another successful year in attracting schools from the Pacific Northwest to compete in the Oregon Section's annual Traffic Bowl Competition.\n",
      "The Traffic Bowl is a Jeopardy-based trivia contest where students must answer questions on a variety of traffic and transportation trivia.\n",
      "This year the competition was held on November 15, 2007 at McMenamin's Edgefield just east of Portland, Oregon. \n",
      "\n",
      "Oregon Section 2007/2008 Annual Report > SOREGON SECTION MEETINGS > 6. TECHNICAL ACTIVITIES: > Technical Committee: > 7. STUDENT CHAPTER ACTIVITIES\n",
      "This year we had 52 students from six universities attending the event.\n",
      "Participating schools were: \n",
      "\n",
      "Oregon Section 2007/2008 Annual Report > SOREGON SECTION MEETINGS > 6. TECHNICAL ACTIVITIES: > Technical Committee: > 7. STUDENT CHAPTER ACTIVITIES\n",
      "� Portland State University \n",
      "\n",
      "Oregon Section 2007/2008 Annual Report > SOREGON SECTION MEETINGS > 6. TECHNICAL ACTIVITIES: > Technical Committee: > 7. STUDENT CHAPTER ACTIVITIES\n",
      "� University of Idaho \n",
      "\n",
      "Oregon Section 2007/2008 Annual Report > SOREGON SECTION MEETINGS > 6. TECHNICAL ACTIVITIES: > Technical Committee: > 7. STUDENT CHAPTER ACTIVITIES\n",
      "� University of Portland \n",
      "\n",
      "Oregon Section 2007/2008 Annual Report > SOREGON SECTION MEETINGS > 6. TECHNICAL ACTIVITIES: > Technical Committee: > 7. STUDENT CHAPTER ACTIVITIES\n",
      "� Oregon State University \n",
      "\n",
      "Oregon Section 2007/2008 Annual Report > SOREGON SECTION MEETINGS > 6. TECHNICAL ACTIVITIES: > Technical Committee: > 7. STUDENT CHAPTER ACTIVITIES\n",
      "� University of Washington \n",
      "\n",
      "Oregon Section 2007/2008 Annual Report > SOREGON SECTION MEETINGS > 6. TECHNICAL ACTIVITIES: > Technical Committee: > 7. STUDENT CHAPTER ACTIVITIES\n",
      "� Oregon Institute of Technology \n",
      "\n",
      "Oregon Section 2007/2008 Annual Report > SOREGON SECTION MEETINGS > 6. TECHNICAL ACTIVITIES: > Technical Committee: > 7. STUDENT CHAPTER ACTIVITIES\n",
      "University of Portland took home the grand prize of bragging rights, a trophy and a $400 scholarship award.\n",
      "University of Washington and Oregon Institute of Technology both received $300 for tying for second place.\n",
      "The remaining three participating schools received a $150 participation award.\n",
      "All of the student attendees received a free dinner at this event.\n",
      "In order to offset the cost of the student meals and scholarships, several local companies donated funds to support student attendance.\n",
      "Donations were received from: Advanced Traffic Products, CH2M Hill, City of Gresham, City of Portland, Coral Sales Company, David Evans and Associates, DKS Associates, Group Mackenzie, HDR, IBI Group, JRH Engineering, Kittelson and Associates, Lancaster Engineering, NWS Traffic Engineering, Parametrix, Quality Counts, TrafStats, URS Corp, W&H Pacific, and Western Systems.\n",
      "The Oregon Section has already secured the room for Traffic Bowl 2008 (November, 2008) at McMenamin’s Edgefield. \n",
      "\n",
      "Oregon Section 2007/2008 Annual Report > SOREGON SECTION MEETINGS > 6. TECHNICAL ACTIVITIES: > Technical Committee: > 7. STUDENT CHAPTER ACTIVITIES\n",
      "This year, students continued to enjoy substantial discounts at Oregon ITE Section meetings ranging from free (Traffic Bowl) to $5 (Section Meetings) depending on the actual cost of the event and level of corporate sponsorship. \n",
      "\n",
      "Oregon Section 2007/2008 Annual Report > SOREGON SECTION MEETINGS > 6. TECHNICAL ACTIVITIES: > Technical Committee: > 8. OTHER ACTIVITIES Webmaster Report:\n",
      "This year the Oregon Section retained the domain name, www.oregonite.org.\n",
      "The website remained very dynamic and was modified significantly to reflect the changing needs of the Section.\n",
      "The web page includes information about meetings, activities, officer contact information, upcoming conferences, available jobs, and section news.\n",
      "The site always has the current and upcoming meeting information posted, and on-line registration for Section meetings continued to be both popular and successful.\n",
      "In addition, electronic download of the registration information were used to produce the registration list, name badges and written receipts for any specific event.\n",
      "This form of registration has proven to be very effective and user friendly for members. \n",
      "\n",
      "Oregon Section 2007/2008 Annual Report > SOREGON SECTION MEETINGS > 6. TECHNICAL ACTIVITIES: > Annual Golf Tournament:\n",
      "The Oregon Section hosted its 18th annual ITE Golf Tournament at Quail Valley Golf Course on September 21, 2007.\n",
      "The tournament drew 57 competitors from across the state.\n",
      "The golf event was held at Oregon Golf Association (OGA) in Woodburn, Oregon.\n",
      "This location is approximately 30 miles south of Portland.\n",
      "Turnout was good, exceeding last year’s attendance, and it was a fun and entertaining event.\n",
      "In addition to volunteers, Lancaster Engineering, David Evans & Associates, DKS Associates, Quality Counts, Parsons Brinkerhoff, Inc., Kittelson & Associates, Inc., All Traffic Data Services, TrafStats, Western Systems and NW Signal sponsored the event. \n",
      "\n",
      "Oregon Section 2007/2008 Annual Report > SOREGON SECTION MEETINGS > 6. TECHNICAL ACTIVITIES: > Annual Golf Tournament: > Speaker Appreciation Gifts:\n",
      "It is the Oregon Section’s tradition to recognize the speaker at the Monthly Section Meetings and various other guests of the Section by presenting them with a token gift.\n",
      "USB thumb drives printed with an Oregon ITE logo were purchased as speaker gifts this year, as were handmade coffee mugs with the Oregon ITE logo. \n",
      "\n",
      "Oregon Section 2007/2008 Annual Report > SOREGON SECTION MEETINGS > 6. TECHNICAL ACTIVITIES: > District 6 Meeting - Local Arrangements Committee:\n",
      "The Oregon Section helped arrange the 2007 District 6 (now Western District) meeting that was held July 15 to 18 in Portland.\n",
      "This meeting was combined with the Quad Conference to expand the reach of this event to our friends in Vancouver, BC.\n",
      "The Quad meeting was originally scheduled to take place in 2008 in Portland, but the Oregon Section swapped meeting years with the Vancouver Island Section in order to better coordinate the district and quad meetings (a win-win situation for both Sections). \n",
      "\n",
      "Oregon Section 2007/2008 Annual Report > SOREGON SECTION MEETINGS > 6. TECHNICAL ACTIVITIES: > District 6 Meeting - Local Arrangements Committee:\n",
      "The District 6 meeting was a huge success in that it attracted over 500 attendees.\n",
      "The committee, chaired by Peter Koonce, was responsible for setting up a great technical and social event for the members of District 6.\n",
      "Some of the highlights include: \n",
      "\n",
      "Oregon Section 2007/2008 Annual Report > SOREGON SECTION MEETINGS > 6. TECHNICAL ACTIVITIES: > District 6 Meeting - Local Arrangements Committee:\n",
      "� PTOE/PTP/TSOS/TOPS Exam Offering \n",
      "\n",
      "Oregon Section 2007/2008 Annual Report > SOREGON SECTION MEETINGS > 6. TECHNICAL ACTIVITIES: > District 6 Meeting - Local Arrangements Committee:\n",
      "� James H. Kell Student Competition \n",
      "\n",
      "Oregon Section 2007/2008 Annual Report > SOREGON SECTION MEETINGS > 6. TECHNICAL ACTIVITIES: > District 6 Meeting - Local Arrangements Committee:\n",
      "� 36 Technical Sessions \n",
      "\n",
      "Oregon Section 2007/2008 Annual Report > SOREGON SECTION MEETINGS > 6. TECHNICAL ACTIVITIES: > District 6 Meeting - Local Arrangements Committee:\n",
      "� 2 Poster Sessions � Vendor Show � 5 Technical Tours � Traffic Bowl � Awards Banquet (Bikes, Brews and Bohemia) � Golf Outing � Multi-Modal Brewery Tour � 3 Guest Tours � Family Night at the Oregon Zoo \n",
      "\n",
      "Oregon Section 2007/2008 Annual Report > SOREGON SECTION MEETINGS > 6. TECHNICAL ACTIVITIES: > District 6 Meeting - Local Arrangements Committee: > 9. AWARDS\n",
      "The Oregon Section recognized several groups and individuals during 2007-08.\n",
      "The Section provided over $1,450 in awards to various ITE Student Sections throughout the greater Northwest.\n",
      "The awards granted over the past year are summarized below. \n",
      "\n",
      "Oregon Section 2007/2008 Annual Report > SOREGON SECTION MEETINGS > 6. TECHNICAL ACTIVITIES: > District 6 Meeting - Local Arrangements Committee: > 9. AWARDS\n",
      "Award Name: Traffic Bowl - First Place Award Recipient's Name: University of Portland Purpose of Award: To Encourage Student Participation in Oregon Section ITE Form of Award: $400 to Student Chapter \n",
      "\n"
     ]
    }
   ],
   "source": [
    "for chunk in doc.chunks():\n",
    "    print (chunk.to_context_text(), \"\\n\")\n",
    "    "
   ]
  },
  {
   "cell_type": "code",
   "execution_count": null,
   "id": "8aa874a7-8b71-42a8-b6e4-a4f3d68d3010",
   "metadata": {},
   "outputs": [],
   "source": []
  },
  {
   "cell_type": "code",
   "execution_count": null,
   "id": "2958717f-1e90-4438-838e-bd0d6c8a8a9f",
   "metadata": {},
   "outputs": [],
   "source": []
  },
  {
   "cell_type": "code",
   "execution_count": null,
   "id": "ebc21b4c-6636-4e0a-8747-0ee3b86e0927",
   "metadata": {},
   "outputs": [],
   "source": []
  },
  {
   "cell_type": "code",
   "execution_count": null,
   "id": "e9aebbd0-728e-4aa8-91ff-4342e744995e",
   "metadata": {},
   "outputs": [],
   "source": []
  },
  {
   "cell_type": "code",
   "execution_count": null,
   "id": "2575fa6d-a35e-4bc3-acbb-6e3eb073e747",
   "metadata": {},
   "outputs": [],
   "source": []
  },
  {
   "cell_type": "code",
   "execution_count": null,
   "id": "aea433bd-2484-42b1-8252-9d13940f651d",
   "metadata": {},
   "outputs": [],
   "source": []
  },
  {
   "cell_type": "code",
   "execution_count": null,
   "id": "7086f40a-18f0-4404-9758-af6fb5364e3c",
   "metadata": {},
   "outputs": [],
   "source": []
  }
 ],
 "metadata": {
  "kernelspec": {
   "display_name": "Python 3 (ipykernel)",
   "language": "python",
   "name": "python3"
  },
  "language_info": {
   "codemirror_mode": {
    "name": "ipython",
    "version": 3
   },
   "file_extension": ".py",
   "mimetype": "text/x-python",
   "name": "python",
   "nbconvert_exporter": "python",
   "pygments_lexer": "ipython3",
   "version": "3.12.1"
  }
 },
 "nbformat": 4,
 "nbformat_minor": 5
}
