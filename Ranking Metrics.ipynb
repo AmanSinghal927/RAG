{
 "cells": [
  {
   "cell_type": "code",
   "execution_count": 1,
   "id": "333ed113",
   "metadata": {},
   "outputs": [],
   "source": [
    "import numpy as np"
   ]
  },
  {
   "cell_type": "markdown",
   "id": "bf216bbb",
   "metadata": {},
   "source": [
    "# MRR"
   ]
  },
  {
   "cell_type": "code",
   "execution_count": 2,
   "id": "6ba03c6d",
   "metadata": {},
   "outputs": [],
   "source": [
    "def mean_reciprocal_rank(results):\n",
    "    \"\"\"\n",
    "    Calculate the Mean Reciprocal Rank (MRR) for a list of ranked results.\n",
    "    \n",
    "    Parameters:\n",
    "    results (list): A list of lists, where each inner list represents the ranked results for a query.\n",
    "                    The first relevant result should appear first in each inner list.\n",
    "    \n",
    "    Returns:\n",
    "    float: The Mean Reciprocal Rank (MRR) for the given results.\n",
    "    \"\"\"\n",
    "    reciprocal_ranks = (np.asarray(result).nonzero()[0] for result in results)\n",
    "    mrr = np.mean([1. / (rank[0] + 1) if rank.size else 0. for rank in reciprocal_ranks])\n",
    "    return mrr"
   ]
  },
  {
   "cell_type": "code",
   "execution_count": 3,
   "id": "086c3bba",
   "metadata": {},
   "outputs": [],
   "source": [
    "def convert_preds_to_results_array(predictions, correct_answers):\n",
    "    \"\"\"\n",
    "    Convert predictions and correct answers to a results array suitable for input to the mean_reciprocal_rank function.\n",
    "    \n",
    "    Parameters:\n",
    "    predictions (list of lists): A list of lists of predicted answers for each query.\n",
    "    correct_answers (list): A list of correct answers for each query.\n",
    "    \n",
    "    Returns:\n",
    "    numpy.ndarray: A 2D numpy array where each row represents the ranked results for a query,\n",
    "                   with 1 indicating a correct prediction and 0 indicating an incorrect prediction.\n",
    "    \"\"\"\n",
    "    results = []\n",
    "    for preds, correct in zip(predictions, correct_answers):\n",
    "        row = [1 if pred == correct else 0 for pred in preds]\n",
    "        results.append(row)\n",
    "    \n",
    "    return np.array(results)"
   ]
  },
  {
   "cell_type": "code",
   "execution_count": 4,
   "id": "955cefbb",
   "metadata": {},
   "outputs": [
    {
     "data": {
      "text/plain": [
       "array([[0, 1, 0, 0, 0],\n",
       "       [0, 1, 0, 0, 0],\n",
       "       [0, 0, 0, 0, 1]])"
      ]
     },
     "execution_count": 4,
     "metadata": {},
     "output_type": "execute_result"
    }
   ],
   "source": [
    "predictions = [['chunk_a', 'chunk_b', 'chunk_c', 'chunk_d', 'chunk_e'],\n",
    "               ['chunk_b', 'chunk_a', 'chunk_c', 'chunk_d', 'chunk_e'],\n",
    "               ['chunk_c', 'chunk_a', 'chunk_b', 'chunk_d', 'chunk_e']]\n",
    "\n",
    "correct_answers = ['chunk_b', 'chunk_a', 'chunk_e']\n",
    "\n",
    "# Convert predictions and correct answers to a results array\n",
    "results_array = convert_preds_to_results_array(predictions, correct_answers)\n",
    "results_array"
   ]
  },
  {
   "cell_type": "code",
   "execution_count": 5,
   "id": "dcf40083",
   "metadata": {},
   "outputs": [
    {
     "name": "stdout",
     "output_type": "stream",
     "text": [
      "Mean Reciprocal Rank: 0.39999999999999997\n"
     ]
    }
   ],
   "source": [
    "mrr = mean_reciprocal_rank(results_array)\n",
    "print(\"Mean Reciprocal Rank:\", mrr)"
   ]
  },
  {
   "cell_type": "code",
   "execution_count": null,
   "id": "332b0dc7",
   "metadata": {},
   "outputs": [],
   "source": []
  }
 ],
 "metadata": {
  "kernelspec": {
   "display_name": "Python 3 (ipykernel)",
   "language": "python",
   "name": "python3"
  },
  "language_info": {
   "codemirror_mode": {
    "name": "ipython",
    "version": 3
   },
   "file_extension": ".py",
   "mimetype": "text/x-python",
   "name": "python",
   "nbconvert_exporter": "python",
   "pygments_lexer": "ipython3",
   "version": "3.9.7"
  }
 },
 "nbformat": 4,
 "nbformat_minor": 5
}
