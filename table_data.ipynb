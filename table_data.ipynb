{
 "cells": [
  {
   "cell_type": "code",
   "execution_count": 1,
   "id": "1623aeef-b686-425e-82d2-9b8f676b1a0d",
   "metadata": {
    "scrolled": true
   },
   "outputs": [
    {
     "name": "stderr",
     "output_type": "stream",
     "text": [
      "C:\\Users\\J C SINGLA\\miniconda3\\Lib\\site-packages\\fuzzywuzzy\\fuzz.py:11: UserWarning: Using slow pure-python SequenceMatcher. Install python-Levenshtein to remove this warning\n",
      "  warnings.warn('Using slow pure-python SequenceMatcher. Install python-Levenshtein to remove this warning')\n",
      "[nltk_data] Downloading package punkt to C:\\Users\\J C\n",
      "[nltk_data]     SINGLA\\AppData\\Roaming\\nltk_data...\n",
      "[nltk_data]   Package punkt is already up-to-date!\n",
      "[nltk_data] Downloading package wordnet to C:\\Users\\J C\n",
      "[nltk_data]     SINGLA\\AppData\\Roaming\\nltk_data...\n",
      "[nltk_data]   Package wordnet is already up-to-date!\n",
      "[nltk_data] Downloading package stopwords to C:\\Users\\J C\n",
      "[nltk_data]     SINGLA\\AppData\\Roaming\\nltk_data...\n",
      "[nltk_data]   Package stopwords is already up-to-date!\n",
      "[nltk_data] Downloading package punkt to C:\\Users\\J C\n",
      "[nltk_data]     SINGLA\\AppData\\Roaming\\nltk_data...\n",
      "[nltk_data]   Package punkt is already up-to-date!\n",
      "[nltk_data] Downloading package wordnet to C:\\Users\\J C\n",
      "[nltk_data]     SINGLA\\AppData\\Roaming\\nltk_data...\n",
      "[nltk_data]   Package wordnet is already up-to-date!\n",
      "[nltk_data] Downloading package stopwords to C:\\Users\\J C\n",
      "[nltk_data]     SINGLA\\AppData\\Roaming\\nltk_data...\n",
      "[nltk_data]   Package stopwords is already up-to-date!\n",
      "[nltk_data] Downloading package punkt to C:\\Users\\J C\n",
      "[nltk_data]     SINGLA\\AppData\\Roaming\\nltk_data...\n",
      "[nltk_data]   Package punkt is already up-to-date!\n",
      "[nltk_data] Downloading package wordnet to C:\\Users\\J C\n",
      "[nltk_data]     SINGLA\\AppData\\Roaming\\nltk_data...\n",
      "[nltk_data]   Package wordnet is already up-to-date!\n",
      "[nltk_data] Downloading package stopwords to C:\\Users\\J C\n",
      "[nltk_data]     SINGLA\\AppData\\Roaming\\nltk_data...\n",
      "[nltk_data]   Package stopwords is already up-to-date!\n"
     ]
    }
   ],
   "source": [
    "from src.dataloader import DataLoader\n",
    "from utils.utils import flatten_list, write_list_to_file, read_list_from_file, preprocess_text\n",
    "from bs4 import BeautifulSoup\n",
    "from src.faiss.flat_idx import FlatIdx\n",
    "from src.encoder.tf_idf import Encoder\n",
    "from src.post_processing import idk\n",
    "import pandas as pd\n",
    "from src.eval import Eval\n",
    "import numpy as np\n",
    "from fuzzywuzzy import fuzz"
   ]
  },
  {
   "cell_type": "markdown",
   "id": "c0cb578b-3063-4c68-ae0c-a80c5a5750d4",
   "metadata": {},
   "source": [
    "## read all the table data"
   ]
  },
  {
   "cell_type": "code",
   "execution_count": 2,
   "id": "cc425aab-6bc0-4637-81e5-77a6ea1c881a",
   "metadata": {},
   "outputs": [],
   "source": [
    "def html_parser(html_content):\n",
    "    soup = BeautifulSoup(html_content, \"html.parser\")\n",
    "    text = soup.get_text(separator=\" \", strip=True)\n",
    "    return(text)"
   ]
  },
  {
   "cell_type": "code",
   "execution_count": 3,
   "id": "d9aa5a68-f1ab-4c23-b503-ba34b1f610f2",
   "metadata": {},
   "outputs": [],
   "source": [
    "directory_path = r'C:\\Users\\J C SINGLA\\Downloads\\External - take_home_challenge_(withJSONs)\\take_home_challenge_(withJSONs)\\raw_text'\n",
    "loader = DataLoader(directory_path, \"\")"
   ]
  },
  {
   "cell_type": "code",
   "execution_count": 4,
   "id": "237379ec-580d-4bd4-a20f-423ae88ece81",
   "metadata": {},
   "outputs": [],
   "source": [
    "all_data, filenames = loader.read_json_from_folders()"
   ]
  },
  {
   "cell_type": "code",
   "execution_count": 5,
   "id": "1173cf4a-74a0-46a2-af8c-7bada35faecf",
   "metadata": {},
   "outputs": [],
   "source": [
    "all_tables = [(k,v) for (k,v) in zip(all_data, filenames) if \"<table>\" in k]"
   ]
  },
  {
   "cell_type": "markdown",
   "id": "f5177bb0-7044-483e-b553-4aa14eff706f",
   "metadata": {},
   "source": [
    "## merge with other data"
   ]
  },
  {
   "cell_type": "code",
   "execution_count": 6,
   "id": "379ce6be-deac-43b5-85c2-3f6fed2a9337",
   "metadata": {},
   "outputs": [],
   "source": [
    "save_path = r\"C:\\Users\\J C SINGLA\\Downloads\\External - take_home_challenge_(withJSONs)\\take_home_challenge_(withJSONs)\\data\""
   ]
  },
  {
   "cell_type": "code",
   "execution_count": 7,
   "id": "ad3b3be3-1878-4fdf-a0b1-7feb0c903303",
   "metadata": {},
   "outputs": [],
   "source": [
    "all_data_sherpa = read_list_from_file(save_path, \"sherpa_paras\")\n",
    "filenames_sherpa = read_list_from_file(save_path, \"sherpa_paras_filenames\")\n",
    "assert (len(all_data_sherpa)==len(filenames_sherpa))"
   ]
  },
  {
   "cell_type": "code",
   "execution_count": 8,
   "id": "02fd4722-48a3-4f9d-b072-ee97589af77f",
   "metadata": {},
   "outputs": [],
   "source": [
    "filenames_tables = [i[1] for i in all_tables]\n",
    "all_tables = [html_parser(i[0]) for i in all_tables]\n",
    "assert(len(filenames_tables)==len(all_tables))"
   ]
  },
  {
   "cell_type": "code",
   "execution_count": 9,
   "id": "2417ed75-c4bd-4e06-8031-248c6456efd4",
   "metadata": {},
   "outputs": [],
   "source": [
    "all_data_sherpa = all_tables + all_data_sherpa\n",
    "filenames_sherpa = filenames_tables + filenames_sherpa"
   ]
  },
  {
   "cell_type": "code",
   "execution_count": 10,
   "id": "f65d5e96-8d19-4cd3-88f7-7df2b8cec094",
   "metadata": {},
   "outputs": [
    {
     "name": "stdout",
     "output_type": "stream",
     "text": [
      "502\n"
     ]
    }
   ],
   "source": [
    "assert (len(all_data_sherpa)==len(filenames_sherpa))\n",
    "print (len(all_data_sherpa))"
   ]
  },
  {
   "cell_type": "code",
   "execution_count": 89,
   "id": "14a2be2c-776e-40cd-a5f5-2c44c23715c2",
   "metadata": {},
   "outputs": [],
   "source": [
    "ground_truth_path = r\"C:\\Users\\J C SINGLA\\Downloads\\External - take_home_challenge_(withJSONs)\\take_home_challenge_(withJSONs)\\document_questions.xlsx\"\n",
    "ground_truth = pd.read_excel(ground_truth_path)\n",
    "ground_truth_text = ground_truth[ground_truth[\"complexity\"].isin([\"no raw_text\"])].copy() #\"table\", \"text\", \n",
    "test_data = list(ground_truth_text[\"relevant questions\"])\n",
    "test_labels = list(ground_truth_text[\"answer\"])"
   ]
  },
  {
   "cell_type": "markdown",
   "id": "6f08ea16-2f45-431c-a00b-8bcadef1c95d",
   "metadata": {},
   "source": [
    "## Model"
   ]
  },
  {
   "cell_type": "code",
   "execution_count": 90,
   "id": "11eca4c7-1ecd-4ff6-b409-9db6e9f701da",
   "metadata": {},
   "outputs": [],
   "source": [
    "tf_encoder = Encoder(all_data_sherpa)\n",
    "tf_encoder.get_embeddings(clean=True)"
   ]
  },
  {
   "cell_type": "code",
   "execution_count": 91,
   "id": "48138ab0-d039-4a85-a0b1-3b4897985d98",
   "metadata": {},
   "outputs": [
    {
     "data": {
      "text/plain": [
       "4999"
      ]
     },
     "execution_count": 91,
     "metadata": {},
     "output_type": "execute_result"
    }
   ],
   "source": [
    "feature_names = tf_encoder.model.get_feature_names_out()\n",
    "len(feature_names)"
   ]
  },
  {
   "cell_type": "markdown",
   "id": "2dcd6f80-36af-42d8-aaff-64a4db03a67a",
   "metadata": {},
   "source": [
    "## FAISS"
   ]
  },
  {
   "cell_type": "code",
   "execution_count": 92,
   "id": "b63f80bf-38aa-4c88-bda8-f84ada7509b5",
   "metadata": {},
   "outputs": [],
   "source": [
    "k = 10\n",
    "index = FlatIdx(d=len(feature_names))\n",
    "index.add_idx(tf_encoder.embedding)"
   ]
  },
  {
   "cell_type": "code",
   "execution_count": 93,
   "id": "2f6221b8-6e42-4035-aec8-dc6bb7d2ee0e",
   "metadata": {},
   "outputs": [],
   "source": [
    "test_data = [preprocess_text(x) for x in test_data]\n",
    "retrieved_items, D = index.faiss_tfidf_inference(tf_encoder.model, all_data_sherpa, test_data, k=k)"
   ]
  },
  {
   "cell_type": "markdown",
   "id": "83eb3380-fff6-40f8-bd22-2a631cc93e8b",
   "metadata": {},
   "source": [
    "## Evaluation"
   ]
  },
  {
   "cell_type": "code",
   "execution_count": 94,
   "id": "42d39698-e640-4c00-b6b4-ffe8f345638d",
   "metadata": {},
   "outputs": [],
   "source": [
    "test_labels, retrieved_items, test_query = idk(test_labels, retrieved_items, D, test_data)"
   ]
  },
  {
   "cell_type": "code",
   "execution_count": 95,
   "id": "5923266c-384b-415e-9109-b0a4b2f343ce",
   "metadata": {},
   "outputs": [
    {
     "name": "stdout",
     "output_type": "stream",
     "text": [
      "Recall is  0.6\n",
      "MRR is  0.5\n"
     ]
    }
   ],
   "source": [
    "metric = Eval(k=k)\n",
    "recall, incorrect, correct = metric.recall_k(test_labels, retrieved_items)\n",
    "print (\"Recall is \", recall)\n",
    "print (\"MRR is \", metric.mean_reciprocal_rank(retrieved_items, test_labels))"
   ]
  },
  {
   "cell_type": "markdown",
   "id": "27a45c09-c62c-45ee-959d-0a4d46c73aa9",
   "metadata": {},
   "source": [
    "## Re-ranking"
   ]
  },
  {
   "cell_type": "code",
   "execution_count": 96,
   "id": "4b1f3a12-10fa-44af-b010-37c0ffc33505",
   "metadata": {},
   "outputs": [],
   "source": [
    "from src.encoder.dragon import Encoder\n",
    "import tqdm"
   ]
  },
  {
   "cell_type": "code",
   "execution_count": 97,
   "id": "6516a21c-545d-475b-8d0d-9db2f55ed5f2",
   "metadata": {},
   "outputs": [],
   "source": [
    "dragon = Encoder()"
   ]
  },
  {
   "cell_type": "code",
   "execution_count": 98,
   "id": "bca04ab6-08cd-4a7c-8e62-153cc42ce994",
   "metadata": {},
   "outputs": [],
   "source": [
    "# return reordered retrieved ranks\n",
    "reorder_items = []\n",
    "\n",
    "for i in range(len(test_query)):\n",
    "    c_embedding = dragon.get_embeddings(retrieved_items[i])\n",
    "    index = FlatIdx(d=c_embedding.shape[1])\n",
    "    index.add_idx(c_embedding.detach().numpy())\n",
    "    temp = index.faiss_dragon_inference(dragon.query_encoder, dragon.tokenizer, retrieved_items[i], [test_query[i]], k=len(retrieved_items[i]))\n",
    "    reorder_items.append(temp[0])"
   ]
  },
  {
   "cell_type": "code",
   "execution_count": 99,
   "id": "2896c210-797c-417d-88ff-67a3f3ebb5e0",
   "metadata": {},
   "outputs": [
    {
     "name": "stdout",
     "output_type": "stream",
     "text": [
      "MRR is  0.20968253968253964\n"
     ]
    }
   ],
   "source": [
    "print (\"MRR is \", metric.mean_reciprocal_rank(reorder_items, test_labels))"
   ]
  },
  {
   "cell_type": "code",
   "execution_count": 100,
   "id": "50bac25f-5a19-4a58-bcfd-6f54aeae36d0",
   "metadata": {},
   "outputs": [
    {
     "name": "stdout",
     "output_type": "stream",
     "text": [
      "Recall is  0.6\n"
     ]
    }
   ],
   "source": [
    "recall, incorrect, correct = metric.recall_k(test_labels, reorder_items)\n",
    "print (\"Recall is \", recall)"
   ]
  },
  {
   "cell_type": "code",
   "execution_count": null,
   "id": "44236466-8c97-4b39-ba84-e5175f747724",
   "metadata": {},
   "outputs": [],
   "source": []
  }
 ],
 "metadata": {
  "kernelspec": {
   "display_name": "Python 3 (ipykernel)",
   "language": "python",
   "name": "python3"
  },
  "language_info": {
   "codemirror_mode": {
    "name": "ipython",
    "version": 3
   },
   "file_extension": ".py",
   "mimetype": "text/x-python",
   "name": "python",
   "nbconvert_exporter": "python",
   "pygments_lexer": "ipython3",
   "version": "3.12.1"
  }
 },
 "nbformat": 4,
 "nbformat_minor": 5
}
