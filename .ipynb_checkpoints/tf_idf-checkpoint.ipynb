{
 "cells": [
  {
   "cell_type": "code",
   "execution_count": 1,
   "id": "60ecc7f9-ca3f-46e8-8add-8e0f11384bfd",
   "metadata": {},
   "outputs": [
    {
     "name": "stderr",
     "output_type": "stream",
     "text": [
      "C:\\Users\\J C SINGLA\\miniconda3\\Lib\\site-packages\\fuzzywuzzy\\fuzz.py:11: UserWarning: Using slow pure-python SequenceMatcher. Install python-Levenshtein to remove this warning\n",
      "  warnings.warn('Using slow pure-python SequenceMatcher. Install python-Levenshtein to remove this warning')\n"
     ]
    }
   ],
   "source": [
    "import pandas as pd\n",
    "import json \n",
    "import glob\n",
    "import faiss\n",
    "from fuzzywuzzy import fuzz\n",
    "from llmsherpa.readers import LayoutPDFReader\n",
    "import matplotlib.pyplot as plt\n",
    "import numpy as np\n",
    "import os\n",
    "import datetime\n",
    "import torch\n",
    "from sklearn.feature_extraction.text import TfidfVectorizer\n",
    "from sklearn.feature_selection import VarianceThreshold\n",
    "import faiss\n",
    "# from transformers import AutoTokenizer, AutoModel"
   ]
  },
  {
   "cell_type": "code",
   "execution_count": 2,
   "id": "4e995938-23c3-4fd6-9de4-71b4d2473055",
   "metadata": {},
   "outputs": [],
   "source": [
    "from src.rechunker import Rechunker\n",
    "from src.encoder.sentence_transformer import Encoder\n",
    "from src.faiss.flat_idx import FlatIdx\n",
    "from utils.utils import flatten_list, write_list_to_file, read_list_from_file\n",
    "from src.eval import Eval\n"
   ]
  },
  {
   "cell_type": "code",
   "execution_count": 3,
   "id": "f8b16390-28d4-4453-ac21-975e09927379",
   "metadata": {},
   "outputs": [
    {
     "name": "stderr",
     "output_type": "stream",
     "text": [
      "[nltk_data] Downloading package punkt to C:\\Users\\J C\n",
      "[nltk_data]     SINGLA\\AppData\\Roaming\\nltk_data...\n",
      "[nltk_data]   Package punkt is already up-to-date!\n",
      "[nltk_data] Downloading package wordnet to C:\\Users\\J C\n",
      "[nltk_data]     SINGLA\\AppData\\Roaming\\nltk_data...\n",
      "[nltk_data]   Package wordnet is already up-to-date!\n",
      "[nltk_data] Downloading package stopwords to C:\\Users\\J C\n",
      "[nltk_data]     SINGLA\\AppData\\Roaming\\nltk_data...\n",
      "[nltk_data]   Package stopwords is already up-to-date!\n"
     ]
    },
    {
     "data": {
      "text/plain": [
       "True"
      ]
     },
     "execution_count": 3,
     "metadata": {},
     "output_type": "execute_result"
    }
   ],
   "source": [
    "import nltk\n",
    "from nltk.stem import PorterStemmer, WordNetLemmatizer\n",
    "from nltk.corpus import stopwords\n",
    "import string\n",
    "\n",
    "nltk.download('punkt')\n",
    "nltk.download('wordnet')\n",
    "nltk.download('stopwords')"
   ]
  },
  {
   "cell_type": "code",
   "execution_count": 4,
   "id": "c286d81a-9e5e-4163-9327-521459009faf",
   "metadata": {},
   "outputs": [],
   "source": [
    "# !pip install nltk"
   ]
  },
  {
   "cell_type": "markdown",
   "id": "ad0c2c46-55da-4968-bbff-f1dcb8883fc6",
   "metadata": {},
   "source": [
    "## Data"
   ]
  },
  {
   "cell_type": "code",
   "execution_count": 5,
   "id": "599ba573-541e-4cb9-86c6-7a2d9d0477b3",
   "metadata": {},
   "outputs": [],
   "source": [
    "save_path = r\"C:\\Users\\J C SINGLA\\Downloads\\External - take_home_challenge_(withJSONs)\\take_home_challenge_(withJSONs)\\data\""
   ]
  },
  {
   "cell_type": "code",
   "execution_count": 6,
   "id": "1ff6e18a-bbc4-4c4f-9515-739b793549a7",
   "metadata": {},
   "outputs": [],
   "source": [
    "all_data_sherpa = read_list_from_file(save_path, \"sherpa_paras\")\n",
    "filenames_sherpa = read_list_from_file(save_path, \"sherpa_paras_filenames\")\n",
    "assert (len(all_data_sherpa)==len(filenames_sherpa))"
   ]
  },
  {
   "cell_type": "code",
   "execution_count": 7,
   "id": "3e2c34af-dde7-4b8f-98b8-1818bb041308",
   "metadata": {},
   "outputs": [],
   "source": [
    "ground_truth_path = r\"C:\\Users\\J C SINGLA\\Downloads\\External - take_home_challenge_(withJSONs)\\take_home_challenge_(withJSONs)\\document_questions.xlsx\"\n",
    "ground_truth = pd.read_excel(ground_truth_path)\n",
    "ground_truth_text = ground_truth[ground_truth[\"complexity\"]==\"text\"].copy()\n",
    "test_data = list(ground_truth_text[\"relevant questions\"])\n",
    "test_labels = list(ground_truth_text[\"answer\"])"
   ]
  },
  {
   "cell_type": "markdown",
   "id": "0d3042e3-f970-4d68-9fa7-f61b1028a1e9",
   "metadata": {},
   "source": [
    "## Vectorizer"
   ]
  },
  {
   "cell_type": "code",
   "execution_count": 92,
   "id": "f4531cd4-b775-4aeb-9729-6592ce66f098",
   "metadata": {},
   "outputs": [],
   "source": [
    "def preprocess_text(text):\n",
    "    translator = str.maketrans('', '', string.punctuation)\n",
    "    text_no_punctuation = text.translate(translator)\n",
    "    tokens = nltk.word_tokenize(text_no_punctuation)\n",
    "    stop_words = set(stopwords.words('english'))\n",
    "    tokens = [word.lower() for word in tokens if word not in stop_words]\n",
    "    stemmer = PorterStemmer()\n",
    "    # tokens = [stemmer.stem(word) for word in tokens]\n",
    "    lemmatizer = WordNetLemmatizer()\n",
    "    # tokens = [lemmatizer.lemmatize(word) for word in tokens]\n",
    "    \n",
    "    return ' '.join(tokens)"
   ]
  },
  {
   "cell_type": "code",
   "execution_count": 93,
   "id": "9c776ddd-2f43-46e7-b819-765e3a3d6042",
   "metadata": {},
   "outputs": [],
   "source": [
    "def tf_encoder(data, clean = False):\n",
    "    vectorizer = TfidfVectorizer()\n",
    "    if clean:\n",
    "        data = [preprocess_text(x) for x in data]\n",
    "    tfidf_vectors = vectorizer.fit_transform(data)\n",
    "    dense_vectors = tfidf_vectors.toarray()\n",
    "    return dense_vectors, vectorizer, data"
   ]
  },
  {
   "cell_type": "code",
   "execution_count": 94,
   "id": "811055cd-d9d0-45bd-a2fc-9e886bedadfc",
   "metadata": {},
   "outputs": [],
   "source": [
    "dense_vectors, vectorizer, data = tf_encoder(all_data_sherpa, True)"
   ]
  },
  {
   "cell_type": "code",
   "execution_count": 95,
   "id": "f3189871-d55b-46db-b0b4-d8d56631a880",
   "metadata": {},
   "outputs": [
    {
     "data": {
      "text/plain": [
       "4616"
      ]
     },
     "execution_count": 95,
     "metadata": {},
     "output_type": "execute_result"
    }
   ],
   "source": [
    "feature_names = vectorizer.get_feature_names_out()\n",
    "len(feature_names)"
   ]
  },
  {
   "cell_type": "markdown",
   "id": "c6488e89-f907-46bc-8397-d10e823ef32e",
   "metadata": {},
   "source": [
    "## FAISS"
   ]
  },
  {
   "cell_type": "code",
   "execution_count": 96,
   "id": "f690a12a-c6ad-4650-8652-5f79c0728361",
   "metadata": {},
   "outputs": [],
   "source": [
    "index = FlatIdx(d=len(feature_names))\n",
    "index.add_idx(dense_vectors)"
   ]
  },
  {
   "cell_type": "code",
   "execution_count": 114,
   "id": "c4c23889-1342-402b-a4cc-077fd31e68d5",
   "metadata": {},
   "outputs": [],
   "source": [
    "test_data = [preprocess_text(x) for x in test_data]\n",
    "retrieved_items = index.faiss_tfidf_inference(vectorizer, all_data_sherpa, test_data, k=15)"
   ]
  },
  {
   "cell_type": "code",
   "execution_count": null,
   "id": "06cb3545-2889-4dc9-b39a-31f3747100db",
   "metadata": {},
   "outputs": [],
   "source": []
  },
  {
   "cell_type": "code",
   "execution_count": 117,
   "id": "97e69547-405b-4e90-bce9-1c7e67c6b4de",
   "metadata": {},
   "outputs": [],
   "source": [
    "metric = Eval(k=15)\n",
    "clean = True\n",
    "if clean:\n",
    "    retrieved_items_clean = []\n",
    "    for i in retrieved_items:\n",
    "        temp = []\n",
    "        for x in i:\n",
    "            temp.append(preprocess_text(x))\n",
    "        retrieved_items_clean.append(temp)\n",
    "        \n",
    "    test_labels_clean = [x if isinstance(x, str) else \"none\" for x in test_labels]\n",
    "    test_labels_clean = [preprocess_text(x) for x in test_labels_clean]\n",
    "    recall, incorrect, correct = metric.recall_k(test_labels_clean, retrieved_items_clean)\n",
    "else:\n",
    "    recall, incorrect, correct = metric.recall_k(test_labels, retrieved_items)"
   ]
  },
  {
   "cell_type": "code",
   "execution_count": 118,
   "id": "e007f611-83cf-4df8-90cc-5901e5094b72",
   "metadata": {},
   "outputs": [
    {
     "data": {
      "text/plain": [
       "0.6428571428571429"
      ]
     },
     "execution_count": 118,
     "metadata": {},
     "output_type": "execute_result"
    }
   ],
   "source": [
    "recall"
   ]
  },
  {
   "cell_type": "code",
   "execution_count": 122,
   "id": "7d5cda73-9480-42f3-9107-3aa95ec50342",
   "metadata": {},
   "outputs": [
    {
     "data": {
      "text/plain": [
       "5"
      ]
     },
     "execution_count": 122,
     "metadata": {},
     "output_type": "execute_result"
    }
   ],
   "source": [
    "len(incorrect)"
   ]
  },
  {
   "cell_type": "code",
   "execution_count": 129,
   "id": "38ccdae3-0a7a-4800-a158-66259aefbc64",
   "metadata": {},
   "outputs": [
    {
     "data": {
      "text/plain": [
       "['that online sexual harassment criminalised abuser intends digital communication cause harm person would reasonably expect person position victim harmed individual suffers serious emotional distress']"
      ]
     },
     "execution_count": 129,
     "metadata": {},
     "output_type": "execute_result"
    }
   ],
   "source": [
    "list(incorrect[4].keys())"
   ]
  },
  {
   "cell_type": "code",
   "execution_count": 88,
   "id": "97a93efb-4cd4-4e9a-a7c6-dbd31a4fc550",
   "metadata": {
    "scrolled": true
   },
   "outputs": [
    {
     "data": {
      "text/plain": [
       "'Approximately 13 transportation related bills were passed by the Oregon Legislative Assembly during the 2007 session.\\nThe topics of the bills vary widely, including issues such as expanding the use of photo radar and red light enforcement, various signing requirements, and gates for light rail pedestrian crossings.\\nDetails on the bills are provided to the Oregon Section membership at'"
      ]
     },
     "execution_count": 88,
     "metadata": {},
     "output_type": "execute_result"
    }
   ],
   "source": [
    "list(incorrect[0].values())[0][10]"
   ]
  },
  {
   "cell_type": "code",
   "execution_count": null,
   "id": "3a439269-d4df-43bb-871e-1833bcd5d96a",
   "metadata": {},
   "outputs": [],
   "source": []
  }
 ],
 "metadata": {
  "kernelspec": {
   "display_name": "Python 3 (ipykernel)",
   "language": "python",
   "name": "python3"
  },
  "language_info": {
   "codemirror_mode": {
    "name": "ipython",
    "version": 3
   },
   "file_extension": ".py",
   "mimetype": "text/x-python",
   "name": "python",
   "nbconvert_exporter": "python",
   "pygments_lexer": "ipython3",
   "version": "3.12.1"
  }
 },
 "nbformat": 4,
 "nbformat_minor": 5
}
