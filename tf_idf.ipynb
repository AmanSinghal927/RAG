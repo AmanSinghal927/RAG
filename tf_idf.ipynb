{
 "cells": [
  {
   "cell_type": "code",
   "execution_count": 1,
   "id": "60ecc7f9-ca3f-46e8-8add-8e0f11384bfd",
   "metadata": {},
   "outputs": [
    {
     "name": "stderr",
     "output_type": "stream",
     "text": [
      "C:\\Users\\J C SINGLA\\miniconda3\\Lib\\site-packages\\fuzzywuzzy\\fuzz.py:11: UserWarning: Using slow pure-python SequenceMatcher. Install python-Levenshtein to remove this warning\n",
      "  warnings.warn('Using slow pure-python SequenceMatcher. Install python-Levenshtein to remove this warning')\n"
     ]
    }
   ],
   "source": [
    "import pandas as pd\n",
    "import json \n",
    "import glob\n",
    "import faiss\n",
    "from fuzzywuzzy import fuzz\n",
    "from llmsherpa.readers import LayoutPDFReader\n",
    "import matplotlib.pyplot as plt\n",
    "import numpy as np\n",
    "import os\n",
    "import datetime\n",
    "import torch\n",
    "from sklearn.feature_extraction.text import TfidfVectorizer\n",
    "from sklearn.feature_selection import VarianceThreshold\n",
    "import faiss\n",
    "# from transformers import AutoTokenizer, AutoModel"
   ]
  },
  {
   "cell_type": "code",
   "execution_count": 2,
   "id": "4e995938-23c3-4fd6-9de4-71b4d2473055",
   "metadata": {},
   "outputs": [],
   "source": [
    "from src.rechunker import Rechunker\n",
    "from src.encoder.sentence_transformer import Encoder\n",
    "from src.faiss.flat_idx import FlatIdx\n",
    "from utils.utils import flatten_list, write_list_to_file, read_list_from_file\n",
    "from src.eval import Eval\n"
   ]
  },
  {
   "cell_type": "code",
   "execution_count": 3,
   "id": "f8b16390-28d4-4453-ac21-975e09927379",
   "metadata": {},
   "outputs": [
    {
     "name": "stderr",
     "output_type": "stream",
     "text": [
      "[nltk_data] Downloading package punkt to C:\\Users\\J C\n",
      "[nltk_data]     SINGLA\\AppData\\Roaming\\nltk_data...\n",
      "[nltk_data]   Package punkt is already up-to-date!\n",
      "[nltk_data] Downloading package wordnet to C:\\Users\\J C\n",
      "[nltk_data]     SINGLA\\AppData\\Roaming\\nltk_data...\n",
      "[nltk_data]   Package wordnet is already up-to-date!\n",
      "[nltk_data] Downloading package stopwords to C:\\Users\\J C\n",
      "[nltk_data]     SINGLA\\AppData\\Roaming\\nltk_data...\n",
      "[nltk_data]   Package stopwords is already up-to-date!\n"
     ]
    },
    {
     "data": {
      "text/plain": [
       "True"
      ]
     },
     "execution_count": 3,
     "metadata": {},
     "output_type": "execute_result"
    }
   ],
   "source": [
    "import nltk\n",
    "from nltk.stem import PorterStemmer, WordNetLemmatizer\n",
    "from nltk.corpus import stopwords\n",
    "import string\n",
    "\n",
    "nltk.download('punkt')\n",
    "nltk.download('wordnet')\n",
    "nltk.download('stopwords')"
   ]
  },
  {
   "cell_type": "code",
   "execution_count": 4,
   "id": "c286d81a-9e5e-4163-9327-521459009faf",
   "metadata": {},
   "outputs": [],
   "source": [
    "# !pip install nltk"
   ]
  },
  {
   "cell_type": "markdown",
   "id": "ad0c2c46-55da-4968-bbff-f1dcb8883fc6",
   "metadata": {},
   "source": [
    "## Data"
   ]
  },
  {
   "cell_type": "code",
   "execution_count": 5,
   "id": "599ba573-541e-4cb9-86c6-7a2d9d0477b3",
   "metadata": {},
   "outputs": [],
   "source": [
    "save_path = r\"C:\\Users\\J C SINGLA\\Downloads\\External - take_home_challenge_(withJSONs)\\take_home_challenge_(withJSONs)\\data\""
   ]
  },
  {
   "cell_type": "code",
   "execution_count": 91,
   "id": "1ff6e18a-bbc4-4c4f-9515-739b793549a7",
   "metadata": {},
   "outputs": [],
   "source": [
    "all_data_sherpa = read_list_from_file(save_path, \"sherpa_paras\")\n",
    "filenames_sherpa = read_list_from_file(save_path, \"sherpa_paras_filenames\")\n",
    "assert (len(all_data_sherpa)==len(filenames_sherpa))"
   ]
  },
  {
   "cell_type": "code",
   "execution_count": 92,
   "id": "3e2c34af-dde7-4b8f-98b8-1818bb041308",
   "metadata": {},
   "outputs": [],
   "source": [
    "ground_truth_path = r\"C:\\Users\\J C SINGLA\\Downloads\\External - take_home_challenge_(withJSONs)\\take_home_challenge_(withJSONs)\\document_questions.xlsx\"\n",
    "ground_truth = pd.read_excel(ground_truth_path)\n",
    "ground_truth_text = ground_truth[ground_truth[\"complexity\"]==\"text\"].copy()\n",
    "test_data = list(ground_truth_text[\"relevant questions\"])\n",
    "test_labels = list(ground_truth_text[\"answer\"])"
   ]
  },
  {
   "cell_type": "markdown",
   "id": "0d3042e3-f970-4d68-9fa7-f61b1028a1e9",
   "metadata": {},
   "source": [
    "## Vectorizer"
   ]
  },
  {
   "cell_type": "code",
   "execution_count": 93,
   "id": "f4531cd4-b775-4aeb-9729-6592ce66f098",
   "metadata": {},
   "outputs": [],
   "source": [
    "def preprocess_text(text):\n",
    "    translator = str.maketrans('', '', string.punctuation)\n",
    "    text_no_punctuation = text.translate(translator)\n",
    "    tokens = nltk.word_tokenize(text_no_punctuation)\n",
    "    stop_words = set(stopwords.words('english'))\n",
    "    tokens = [word.lower() for word in tokens if word not in stop_words]\n",
    "    stemmer = PorterStemmer()\n",
    "    # tokens = [stemmer.stem(word) for word in tokens]\n",
    "    lemmatizer = WordNetLemmatizer()\n",
    "    # tokens = [lemmatizer.lemmatize(word) for word in tokens]\n",
    "    \n",
    "    return ' '.join(tokens)"
   ]
  },
  {
   "cell_type": "code",
   "execution_count": 94,
   "id": "9c776ddd-2f43-46e7-b819-765e3a3d6042",
   "metadata": {},
   "outputs": [],
   "source": [
    "def tf_encoder(data, clean = False):\n",
    "    vectorizer = TfidfVectorizer()\n",
    "    if clean:\n",
    "        data = [preprocess_text(x) for x in data]\n",
    "    tfidf_vectors = vectorizer.fit_transform(data)\n",
    "    dense_vectors = tfidf_vectors.toarray()\n",
    "    return dense_vectors, vectorizer, data"
   ]
  },
  {
   "cell_type": "code",
   "execution_count": 95,
   "id": "811055cd-d9d0-45bd-a2fc-9e886bedadfc",
   "metadata": {},
   "outputs": [],
   "source": [
    "dense_vectors, vectorizer, data = tf_encoder(all_data_sherpa, True)"
   ]
  },
  {
   "cell_type": "code",
   "execution_count": 96,
   "id": "f3189871-d55b-46db-b0b4-d8d56631a880",
   "metadata": {},
   "outputs": [
    {
     "data": {
      "text/plain": [
       "4616"
      ]
     },
     "execution_count": 96,
     "metadata": {},
     "output_type": "execute_result"
    }
   ],
   "source": [
    "feature_names = vectorizer.get_feature_names_out()\n",
    "len(feature_names)"
   ]
  },
  {
   "cell_type": "markdown",
   "id": "c6488e89-f907-46bc-8397-d10e823ef32e",
   "metadata": {},
   "source": [
    "## FAISS"
   ]
  },
  {
   "cell_type": "code",
   "execution_count": 97,
   "id": "f690a12a-c6ad-4650-8652-5f79c0728361",
   "metadata": {},
   "outputs": [],
   "source": [
    "k = 15\n",
    "index = FlatIdx(d=len(feature_names))\n",
    "index.add_idx(dense_vectors)"
   ]
  },
  {
   "cell_type": "code",
   "execution_count": 98,
   "id": "c4c23889-1342-402b-a4cc-077fd31e68d5",
   "metadata": {},
   "outputs": [],
   "source": [
    "test_data = [preprocess_text(x) for x in test_data]\n",
    "retrieved_items, D = index.faiss_tfidf_inference(vectorizer, all_data_sherpa, test_data, k=k)"
   ]
  },
  {
   "cell_type": "code",
   "execution_count": 99,
   "id": "6c6b4e81-accc-46e3-8a5e-50022e973b19",
   "metadata": {
    "scrolled": true
   },
   "outputs": [
    {
     "data": {
      "text/plain": [
       "[\"The Student Liaison Committee had another successful year in attracting schools from the Pacific Northwest to compete in the Oregon Section's annual Traffic Bowl Competition. The Traffic Bowl is a Jeopardy-based trivia contest where students must answer questions on a variety of traffic and transportation trivia. This year the competition was held on November 15, 2007 at McMenamin's Edgefield just east of Portland, Oregon. \",\n",
       " 'This year we had 52 students from six universities attending the event. Participating schools were: \\nPortland State University \\nUniversity of Idaho \\nUniversity of Portland \\nOregon State University \\nUniversity of Washington \\nOregon Institute of Technology ',\n",
       " 'University of Portland took home the grand prize of bragging rights, a trophy and a $400 scholarship \\naward. University of Washington and Oregon Institute of Technology both received $300 for tying \\nfor second place.  The remaining three participating schools received a $150 participation award.  All \\nof the student attendees received a free dinner at this event. In order to offset the cost of the student \\nmeals and scholarships, several local companies donated funds to support student attendance. \\nDonations were received from: Advanced Traffic Products, CH2M Hill, City of Gresham, City of \\nPortland, Coral Sales Company, David Evans and Associates, DKS Associates, Group Mackenzie, \\nHDR, IBI Group, JRH Engineering, Kittelson and Associates, Lancaster Engineering, NWS Traffic \\nEngineering, Parametrix, Quality Counts, TrafStats, URS Corp, W&H Pacific, and Western Systems.  \\nThe Oregon Section has already secured the room for Traffic Bowl 2008 (November, 2008) at \\nMcMenamin’s Edgefield.',\n",
       " 'This year the Oregon Section retained the domain name, www.oregonite.org . The website remained very dynamic and was modified significantly to reflect the changing needs of the Section. The web page includes information about meetings, activities, officer contact information, upcoming conferences, available jobs, and section news. The site always has the current and upcoming meeting information posted, and on-line registration for Section meetings continued to be both popular and successful. In addition, electronic download of the registration information were used to produce the registration list, name badges and written receipts for any specific event. This form of registration has proven to be very effective and user friendly for members.',\n",
       " 'The Oregon Section hosted its 18th annual ITE Golf Tournament at Quail Valley Golf Course on September 21, 2007. The tournament drew 57 competitors from across the state. The golf event was held at Oregon Golf Association (OGA) in Woodburn, Oregon. This location is approximately 30 miles south of Portland. Turnout was good, exceeding last year’s attendance, and it was a fun and entertaining event. In addition to volunteers, Lancaster Engineering, David Evans & Associates, DKS Associates, Quality Counts, Parsons Brinkerhoff, Inc., Kittelson & Associates, Inc., All Traffic Data Services, TrafStats, Western Systems and NW Signal sponsored the event.',\n",
       " nan,\n",
       " nan,\n",
       " 'The District 6 meeting was a huge success in that it attracted over 500 attendees. The committee, chaired by Peter Koonce, was responsible for setting up a great technical and social event for the members of District 6. Some of the highlights include: PTOE/PTP/TSOS/TOPS Exam Offering James H. Kell Student Competition 36 Technical Sessions 2 Poster SessionsVendor Show \\n5 Technical Tours \\nTraffic Bowl \\nAwards Banquet (Bikes, Brews and Bohemia) \\nGolf Outing \\nMulti-Modal Brewery Tour \\n3 Guest Tours \\nFamily Night at the Oregon Zoo ',\n",
       " \"Award Name: Traffic Bowl - First Place Award Recipient's Name: University of Portland Purpose of Award: To Encourage Student Participation in Oregon Section ITE Form of Award: $400 to Student Chapter\",\n",
       " nan,\n",
       " '[\"We believe that the current legislated timeframe for making a complaint through AHRC is unworkable and out of step with other legislative provisions. It should be amended to 6 years in line with other employment law jurisdictions. We believe that the Australian Human Rights Commission Act 1986 (the AHRC Act) or regulations should be amended to expressly prescribe time frames for the scheduling of mediation conferences.\", \"We have long argued that a legislative framework is needed which incorporates: \\n\\uf0b7 Regulation and criminal sanctions holding the behaviours of abusers, employers and \\ncarriage services to account, and \\n\\uf0b7 A civil regime through which victims and survivors of online abuse can access legal \\ntools to allow them to seek relief and damages. \", \"Maurice Blackburn believes Australia needs a civil / criminal legislative framework which \\ncould ensure: \\n\\uf0b7 That breaches, can be investigated by a statutory body established under the Act, \\nand failing that, the courts. \\n\\uf0b7 That the statutory body can order that offending materials be removed from an on-line \\nplatform, and require a correction and/or an apology.  \\n\\uf0b7 That the frameworks allows for the release of the identity of anonymous abusers. \\n\\uf0b7 That on-line sexual harassment is criminalised where: \\no the abuser intends a digital communication to cause harm, \\no a person would reasonably expect the person in the position of the victim to \\nbe harmed, and the individual suffers serious emotional distress. \", \"Maurice Blackburn is of the view that one of the significant failings of the current legislative \\nscheme is the onus it places on victims to seek redress for the harm they have suffered, \\nrather than placing a positive obligation on employers to prevent the harm occurring in the \\nfirst instance. We believe there should be enforceable sanctions against employers who fail \\nin their duty to provide a safe workplace for their employees. \", \"In our view, it should be made abundantly clear, via legislative reform or through delegated \\nlegislation, that regulators are required to investigate sexual harassment complaints given \\nthe health and safety implications of same.  \"]',\n",
       " 'The scarcity of data and the deficiencies in the currently published data have led to a situation where a significant barrier to commencing proceedings or filing a complaint is the inaccuracy of the quantum of reported settlements.',\n",
       " 'Maurice Blackburn is of the view that one of the significant failings of the current legislative scheme is the onus it places on victims to seek redress for the harm they have suffered, rather than placing a positive obligation on employers to prevent the harm occurring in the first instance. We believe there should be enforceable sanctions against employers who fail in their duty to provide a safe workplace for their employees.',\n",
       " 'That on-line sexual harassment is criminalised where: o the abuser intends a digital communication to cause harm, o a person would reasonably expect the person in the position of the victim to be harmed, and the individual suffers serious emotional distress. ']"
      ]
     },
     "execution_count": 99,
     "metadata": {},
     "output_type": "execute_result"
    }
   ],
   "source": [
    "test_labels"
   ]
  },
  {
   "cell_type": "code",
   "execution_count": 100,
   "id": "3483c7fc-0c44-4c8d-923f-f9906af489d8",
   "metadata": {},
   "outputs": [],
   "source": [
    "# what does test_labels and retrieved items -> what is my retrieved items when their min(D) is less than 1.5917805 and greater than 1.5917805\n",
    "th = 1.5917805\n",
    "bad_retrieved_items = [(v,l) for (v,l,m) in zip(test_labels, retrieved_items, D) if min(m[0])>=th]\n",
    "bad_retrieved_labels = [i[0] for i in bad_retrieved_items]\n",
    "bad_retrieved_items = [i[1] for i in bad_retrieved_items]\n"
   ]
  },
  {
   "cell_type": "code",
   "execution_count": 101,
   "id": "4ddb783c-618c-4a24-94ba-425defa69855",
   "metadata": {},
   "outputs": [],
   "source": [
    "# what does test_labels and retrieved items -> what is my retrieved items when their min(D) is less than 1.5917805 and greater than 1.5917805\n",
    "th = 1.5917805\n",
    "good_retrieved_items = [(v,l) for (v,l,m) in zip(test_labels, retrieved_items, D) if min(m[0])<th]\n",
    "good_retrieved_labels = [i[0] for i in good_retrieved_items]\n",
    "good_retrieved_items = [i[1] for i in good_retrieved_items]\n"
   ]
  },
  {
   "cell_type": "code",
   "execution_count": 102,
   "id": "47701e75-0cc0-4cd4-99ae-96833843f2ab",
   "metadata": {},
   "outputs": [],
   "source": [
    "bad_retrieved_items = [[\"None\"]*k for i in range(len(bad_retrieved_items))]"
   ]
  },
  {
   "cell_type": "code",
   "execution_count": 103,
   "id": "47cf2804-1abe-4540-aed1-988c84bee165",
   "metadata": {},
   "outputs": [],
   "source": [
    "retrieved_items_ = good_retrieved_items + bad_retrieved_items\n",
    "test_labels_ = good_retrieved_labels + bad_retrieved_labels"
   ]
  },
  {
   "cell_type": "code",
   "execution_count": 116,
   "id": "d79d07e2-b385-47ed-ae35-0a8ee743bacb",
   "metadata": {},
   "outputs": [
    {
     "data": {
      "text/plain": [
       "nan"
      ]
     },
     "execution_count": 116,
     "metadata": {},
     "output_type": "execute_result"
    }
   ],
   "source": [
    "test_labels_[-2]"
   ]
  },
  {
   "cell_type": "code",
   "execution_count": 117,
   "id": "3902f502-7fed-47cf-9e2f-6d404d45c2a2",
   "metadata": {
    "scrolled": true
   },
   "outputs": [
    {
     "data": {
      "text/plain": [
       "['None',\n",
       " 'None',\n",
       " 'None',\n",
       " 'None',\n",
       " 'None',\n",
       " 'None',\n",
       " 'None',\n",
       " 'None',\n",
       " 'None',\n",
       " 'None',\n",
       " 'None',\n",
       " 'None',\n",
       " 'None',\n",
       " 'None',\n",
       " 'None']"
      ]
     },
     "execution_count": 117,
     "metadata": {},
     "output_type": "execute_result"
    }
   ],
   "source": [
    "retrieved_items_[-2]"
   ]
  },
  {
   "cell_type": "code",
   "execution_count": 118,
   "id": "97e69547-405b-4e90-bce9-1c7e67c6b4de",
   "metadata": {},
   "outputs": [],
   "source": [
    "metric = Eval(k=k)\n",
    "clean = True\n",
    "if clean:\n",
    "    retrieved_items_clean = []\n",
    "    for i in retrieved_items_:\n",
    "        temp = []\n",
    "        for x in i:\n",
    "            temp.append(preprocess_text(x))\n",
    "        retrieved_items_clean.append(temp)\n",
    "        \n",
    "    test_labels_clean = [x if isinstance(x, str) else \"None\" for x in test_labels_]\n",
    "    test_labels_clean = [preprocess_text(x) for x in test_labels_clean]\n",
    "    recall, incorrect, correct = metric.recall_k(test_labels_clean, retrieved_items_clean)\n",
    "else:\n",
    "    recall, incorrect, correct = metric.recall_k(test_labels_, retrieved_items_)"
   ]
  },
  {
   "cell_type": "code",
   "execution_count": 119,
   "id": "e007f611-83cf-4df8-90cc-5901e5094b72",
   "metadata": {},
   "outputs": [
    {
     "data": {
      "text/plain": [
       "0.7857142857142857"
      ]
     },
     "execution_count": 119,
     "metadata": {},
     "output_type": "execute_result"
    }
   ],
   "source": [
    "recall"
   ]
  },
  {
   "cell_type": "code",
   "execution_count": 120,
   "id": "7d5cda73-9480-42f3-9107-3aa95ec50342",
   "metadata": {},
   "outputs": [
    {
     "data": {
      "text/plain": [
       "3"
      ]
     },
     "execution_count": 120,
     "metadata": {},
     "output_type": "execute_result"
    }
   ],
   "source": [
    "len(incorrect)"
   ]
  },
  {
   "cell_type": "code",
   "execution_count": 126,
   "id": "38ccdae3-0a7a-4800-a158-66259aefbc64",
   "metadata": {},
   "outputs": [
    {
     "data": {
      "text/plain": [
       "['we believe current legislated timeframe making complaint ahrc unworkable step legislative provisions it amended 6 years line employment law jurisdictions we believe australian human rights commission act 1986 ahrc act regulations amended expressly prescribe time frames scheduling mediation conferences we long argued legislative framework needed incorporates \\uf0b7 regulation criminal sanctions holding behaviours abusers employers carriage services account \\uf0b7 a civil regime victims survivors online abuse access legal tools allow seek relief damages maurice blackburn believes australia needs civil criminal legislative framework could ensure \\uf0b7 that breaches investigated statutory body established act failing courts \\uf0b7 that statutory body order offending materials removed online platform require correction andor apology \\uf0b7 that frameworks allows release identity anonymous abusers \\uf0b7 that online sexual harassment criminalised abuser intends digital communication cause harm person would reasonably expect person position victim harmed individual suffers serious emotional distress maurice blackburn view one significant failings current legislative scheme onus places victims seek redress harm suffered rather placing positive obligation employers prevent harm occurring first instance we believe enforceable sanctions employers fail duty provide safe workplace employees in view made abundantly clear via legislative reform delegated legislation regulators required investigate sexual harassment complaints given health safety implications']"
      ]
     },
     "execution_count": 126,
     "metadata": {},
     "output_type": "execute_result"
    }
   ],
   "source": [
    "list(incorrect[2].keys())"
   ]
  },
  {
   "cell_type": "code",
   "execution_count": 127,
   "id": "97a93efb-4cd4-4e9a-a7c6-dbd31a4fc550",
   "metadata": {
    "scrolled": true
   },
   "outputs": [
    {
     "data": {
      "text/plain": [
       "'none'"
      ]
     },
     "execution_count": 127,
     "metadata": {},
     "output_type": "execute_result"
    }
   ],
   "source": [
    "list(incorrect[2].values())[0][0]"
   ]
  },
  {
   "cell_type": "code",
   "execution_count": null,
   "id": "3a439269-d4df-43bb-871e-1833bcd5d96a",
   "metadata": {},
   "outputs": [],
   "source": []
  }
 ],
 "metadata": {
  "kernelspec": {
   "display_name": "Python 3 (ipykernel)",
   "language": "python",
   "name": "python3"
  },
  "language_info": {
   "codemirror_mode": {
    "name": "ipython",
    "version": 3
   },
   "file_extension": ".py",
   "mimetype": "text/x-python",
   "name": "python",
   "nbconvert_exporter": "python",
   "pygments_lexer": "ipython3",
   "version": "3.12.1"
  }
 },
 "nbformat": 4,
 "nbformat_minor": 5
}
